{
 "cells": [
  {
   "cell_type": "code",
   "execution_count": 1,
   "id": "impressive-acceptance",
   "metadata": {
    "_cell_guid": "b1076dfc-b9ad-4769-8c92-a6c4dae69d19",
    "_uuid": "8f2839f25d086af736a60e9eeb907d3b93b6e0e5",
    "papermill": {
     "duration": 0.080847,
     "end_time": "2021-06-21T10:44:33.419444",
     "exception": false,
     "start_time": "2021-06-21T10:44:33.338597",
     "status": "completed"
    },
    "tags": []
   },
   "outputs": [],
   "source": [
    "# This Python 3 environment comes with many helpful analytics libraries installed\n",
    "# It is defined by the kaggle/python Docker image: https://github.com/kaggle/docker-python\n",
    "# For example, here's several helpful packages to load\n",
    "\n",
    "import numpy as np # linear algebra\n",
    "import pandas as pd # data processing, CSV file I/O (e.g. pd.read_csv)\n",
    "\n",
    "# Input data files are available in the read-only \"../input/\" directory\n",
    "# For example, running this (by clicking run or pressing Shift+Enter) will list all files under the input directory\n",
    "\n",
    "import os\n",
    "import mlflow\n",
    "import mlflow.sklearn\n",
    "\n",
    "# You can write up to 20GB to the current directory (/kaggle/working/) that gets preserved as output when you create a version using \"Save & Run All\" \n",
    "# You can also write temporary files to /kaggle/temp/, but they won't be saved outside of the current session"
   ]
  },
  {
   "cell_type": "code",
   "execution_count": 2,
   "id": "determined-louisiana",
   "metadata": {
    "papermill": {
     "duration": 0.993166,
     "end_time": "2021-06-21T10:44:34.468404",
     "exception": false,
     "start_time": "2021-06-21T10:44:33.475238",
     "status": "completed"
    },
    "tags": []
   },
   "outputs": [],
   "source": [
    "# Importing Important Libraries\n",
    "\n",
    "import numpy as np # for mathematical computation\n",
    "import pandas as pd # for dealing with the data\n",
    "import matplotlib.pyplot as plt # for visualization\n",
    "import seaborn as sns # for visualization\n",
    "%matplotlib inline"
   ]
  },
  {
   "cell_type": "code",
   "execution_count": 11,
   "id": "american-button",
   "metadata": {
    "papermill": {
     "duration": 0.977248,
     "end_time": "2021-06-21T10:44:35.500375",
     "exception": false,
     "start_time": "2021-06-21T10:44:34.523127",
     "status": "completed"
    },
    "tags": []
   },
   "outputs": [],
   "source": [
    "\n",
    "import configparser\n",
    "path_root=\"/home/cdsw\"\n",
    "USER_PREFIX='JVP'\n",
    "\n",
    "config = configparser.ConfigParser()\n",
    "config.read(f\"{path_root}/parameters.conf\")\n",
    "data_lake_name=config.get(\"general\",\"data_lake_name\")\n",
    "s3BucketName=config.get(\"general\",\"s3BucketName\")\n",
    "train_tablename=config.get(\"general\",\"train_tablename\")\n",
    "test_tablename=config.get(\"general\",\"test_tablename\")\n",
    "database =f\"{USER_PREFIX}_{config.get('general','database')}\"\n",
    "srcdir=s3BucketName"
   ]
  },
  {
   "cell_type": "code",
   "execution_count": 5,
   "id": "68610909-6ef5-424e-a16a-d475d6c946f1",
   "metadata": {},
   "outputs": [
    {
     "name": "stderr",
     "output_type": "stream",
     "text": [
      "Setting spark.hadoop.yarn.resourcemanager.principal to csso_jprosser\n"
     ]
    },
    {
     "name": "stdout",
     "output_type": "stream",
     "text": [
      "Spark Application Id:spark-application-1727288566385\n"
     ]
    },
    {
     "name": "stderr",
     "output_type": "stream",
     "text": [
      "Hive Session ID = dd5095cf-9c0c-4c29-af8c-e654217c1aef\n"
     ]
    },
    {
     "name": "stdout",
     "output_type": "stream",
     "text": [
      "+------------------+\n",
      "|         namespace|\n",
      "+------------------+\n",
      "|           default|\n",
      "|information_schema|\n",
      "| jvp_cc_lead_model|\n",
      "|               sys|\n",
      "+------------------+\n",
      "\n"
     ]
    }
   ],
   "source": [
    "# Click on the Data icon at the top of the window \n",
    "# Then click the \"Spark Data Lake\" button\n",
    "# Finally click on the \"Copy code\" button and paste the contents below.\n",
    "\n",
    "import cml.data_v1 as cmldata\n",
    "\n",
    "# Sample in-code customization of spark configurations\n",
    "#from pyspark import SparkContext\n",
    "#SparkContext.setSystemProperty('spark.executor.cores', '1')\n",
    "#SparkContext.setSystemProperty('spark.executor.memory', '2g')\n",
    "\n",
    "CONNECTION_NAME = \"jqrhv9chljtm\"\n",
    "conn = cmldata.get_connection(CONNECTION_NAME)\n",
    "spark = conn.get_spark_session()\n",
    "\n",
    "# Sample usage to run query through spark\n",
    "EXAMPLE_SQL_QUERY = \"show databases\"\n",
    "spark.sql(EXAMPLE_SQL_QUERY).show()\n"
   ]
  },
  {
   "cell_type": "code",
   "execution_count": 6,
   "id": "8b9838dc-4fef-47a7-929e-320dfefa24d2",
   "metadata": {},
   "outputs": [],
   "source": [
    "from __future__ import print_function\n",
    "import os\n",
    "import sys\n",
    "from pyspark.sql import SparkSession\n",
    "import time"
   ]
  },
  {
   "cell_type": "code",
   "execution_count": 13,
   "id": "406b6122-b64d-4fa0-aeab-cbdb87c6b526",
   "metadata": {},
   "outputs": [],
   "source": [
    "spark = (\n",
    "  SparkSession.builder.appName(f\"{USER_PREFIX}_CCLead-Data-Loader\")\n",
    "  .config(\"spark.sql.hive.hwc.execution.mode\", \"spark\")\n",
    "  .config(\"spark.sql.extensions\", \"com.qubole.spark.hiveacid.HiveAcidAutoConvertExtension, org.apache.iceberg.spark.extensions.IcebergSparkSessionExtensions\")\n",
    "  .config(\"spark.sql.catalog.spark_catalog.type\", \"hive\")\n",
    "  .config(\"spark.sql.catalog.spark_catalog\", \"org.apache.iceberg.spark.SparkSessionCatalog\")\n",
    "  .config(\"spark.yarn.access.hadoopFileSystems\", data_lake_name)\n",
    "  .config(\"spark.hadoop.iceberg.engine.hive.enabled\", \"true\")\n",
    "  .config(\"spark.jars\", \"/opt/spark/optional-lib/iceberg-spark-runtime.jar\")\n",
    "  .getOrCreate()\n",
    "  )\n",
    "\n"
   ]
  },
  {
   "cell_type": "code",
   "execution_count": 14,
   "id": "b13af8cd-e0fd-4192-802e-5395eccafd6e",
   "metadata": {},
   "outputs": [
    {
     "name": "stdout",
     "output_type": "stream",
     "text": [
      "+------------------+\n",
      "|         namespace|\n",
      "+------------------+\n",
      "|           default|\n",
      "|information_schema|\n",
      "| jvp_cc_lead_model|\n",
      "|               sys|\n",
      "+------------------+\n",
      "\n"
     ]
    },
    {
     "name": "stderr",
     "output_type": "stream",
     "text": [
      "[Stage 0:>                                                          (0 + 1) / 1]\r"
     ]
    },
    {
     "name": "stdout",
     "output_type": "stream",
     "text": [
      "+--------------------+-------------------+-------------------+---------+--------------------+--------------------+\n",
      "|        committed_at|        snapshot_id|          parent_id|operation|       manifest_list|             summary|\n",
      "+--------------------+-------------------+-------------------+---------+--------------------+--------------------+\n",
      "|2024-09-25 17:58:...|7358846949846510102|               null|   append|s3a://jqrhv9chljt...|{spark.app.id -> ...|\n",
      "|2024-09-25 18:01:...|  21885554618766449|7358846949846510102|   append|s3a://jqrhv9chljt...|{spark.app.id -> ...|\n",
      "|2024-09-25 18:02:...|3253701813602397880|  21885554618766449|   append|s3a://jqrhv9chljt...|{spark.app.id -> ...|\n",
      "|2024-09-25 18:03:...|6254399732127111263|3253701813602397880|   append|s3a://jqrhv9chljt...|{spark.app.id -> ...|\n",
      "|2024-09-25 18:03:...|8629958596460495146|6254399732127111263|   append|s3a://jqrhv9chljt...|{spark.app.id -> ...|\n",
      "+--------------------+-------------------+-------------------+---------+--------------------+--------------------+\n",
      "\n"
     ]
    },
    {
     "name": "stderr",
     "output_type": "stream",
     "text": [
      "                                                                                \r"
     ]
    }
   ],
   "source": [
    "# Sample usage to run query through spark\n",
    "EXAMPLE_SQL_QUERY = \"show databases\"\n",
    "spark.sql(EXAMPLE_SQL_QUERY).show()\n",
    "spark.sql(f\"SELECT * FROM {database}.{train_tablename}.snapshots\").show();"
   ]
  },
  {
   "cell_type": "code",
   "execution_count": 15,
   "id": "a04d8499-0001-450e-a3c9-5f1ed56e0854",
   "metadata": {},
   "outputs": [],
   "source": [
    "first_snapshot=6254399732127111263"
   ]
  },
  {
   "cell_type": "code",
   "execution_count": 17,
   "id": "2da30d5c-0ee4-49e6-a808-fcabfff0e2da",
   "metadata": {},
   "outputs": [
    {
     "name": "stderr",
     "output_type": "stream",
     "text": [
      "                                                                                \r"
     ]
    },
    {
     "data": {
      "text/plain": [
       "199999"
      ]
     },
     "execution_count": 17,
     "metadata": {},
     "output_type": "execute_result"
    }
   ],
   "source": [
    "train = spark.read\\\n",
    "    .option(\"snapshot-id\", first_snapshot)\\\n",
    "    .format(\"iceberg\")\\\n",
    "    .load(f\"{database}.{train_tablename}\").toPandas()\n",
    "train.shape[0]"
   ]
  },
  {
   "cell_type": "code",
   "execution_count": 18,
   "id": "intended-offset",
   "metadata": {
    "papermill": {
     "duration": 0.103692,
     "end_time": "2021-06-21T10:44:35.658539",
     "exception": false,
     "start_time": "2021-06-21T10:44:35.554847",
     "status": "completed"
    },
    "tags": []
   },
   "outputs": [
    {
     "data": {
      "text/html": [
       "<div>\n",
       "<style scoped>\n",
       "    .dataframe tbody tr th:only-of-type {\n",
       "        vertical-align: middle;\n",
       "    }\n",
       "\n",
       "    .dataframe tbody tr th {\n",
       "        vertical-align: top;\n",
       "    }\n",
       "\n",
       "    .dataframe thead th {\n",
       "        text-align: right;\n",
       "    }\n",
       "</style>\n",
       "<table border=\"1\" class=\"dataframe\">\n",
       "  <thead>\n",
       "    <tr style=\"text-align: right;\">\n",
       "      <th></th>\n",
       "      <th>ID</th>\n",
       "      <th>Gender</th>\n",
       "      <th>Age</th>\n",
       "      <th>Region_Code</th>\n",
       "      <th>Occupation</th>\n",
       "      <th>Channel_Code</th>\n",
       "      <th>Vintage</th>\n",
       "      <th>Credit_Product</th>\n",
       "      <th>Avg_Account_Balance</th>\n",
       "      <th>Is_Active</th>\n",
       "      <th>Is_Lead</th>\n",
       "    </tr>\n",
       "  </thead>\n",
       "  <tbody>\n",
       "    <tr>\n",
       "      <th>0</th>\n",
       "      <td>DSYEP385</td>\n",
       "      <td>Female</td>\n",
       "      <td>32</td>\n",
       "      <td>RG260</td>\n",
       "      <td>Salaried</td>\n",
       "      <td>X1</td>\n",
       "      <td>32</td>\n",
       "      <td>No</td>\n",
       "      <td>307450</td>\n",
       "      <td>No</td>\n",
       "      <td>0</td>\n",
       "    </tr>\n",
       "    <tr>\n",
       "      <th>1</th>\n",
       "      <td>DWL8AOKU</td>\n",
       "      <td>Female</td>\n",
       "      <td>76</td>\n",
       "      <td>RG268</td>\n",
       "      <td>Other</td>\n",
       "      <td>X2</td>\n",
       "      <td>68</td>\n",
       "      <td>No</td>\n",
       "      <td>722546</td>\n",
       "      <td>Yes</td>\n",
       "      <td>0</td>\n",
       "    </tr>\n",
       "    <tr>\n",
       "      <th>2</th>\n",
       "      <td>FTPA66KP</td>\n",
       "      <td>Female</td>\n",
       "      <td>28</td>\n",
       "      <td>RG273</td>\n",
       "      <td>Salaried</td>\n",
       "      <td>X1</td>\n",
       "      <td>32</td>\n",
       "      <td>No</td>\n",
       "      <td>695152</td>\n",
       "      <td>No</td>\n",
       "      <td>0</td>\n",
       "    </tr>\n",
       "    <tr>\n",
       "      <th>3</th>\n",
       "      <td>5XHEBRTT</td>\n",
       "      <td>Female</td>\n",
       "      <td>26</td>\n",
       "      <td>RG251</td>\n",
       "      <td>Salaried</td>\n",
       "      <td>X3</td>\n",
       "      <td>21</td>\n",
       "      <td>No</td>\n",
       "      <td>499476</td>\n",
       "      <td>No</td>\n",
       "      <td>0</td>\n",
       "    </tr>\n",
       "    <tr>\n",
       "      <th>4</th>\n",
       "      <td>NVQYNSFZ</td>\n",
       "      <td>Male</td>\n",
       "      <td>27</td>\n",
       "      <td>RG268</td>\n",
       "      <td>Salaried</td>\n",
       "      <td>X1</td>\n",
       "      <td>20</td>\n",
       "      <td>No</td>\n",
       "      <td>860389</td>\n",
       "      <td>Yes</td>\n",
       "      <td>0</td>\n",
       "    </tr>\n",
       "  </tbody>\n",
       "</table>\n",
       "</div>"
      ],
      "text/plain": [
       "         ID  Gender  Age Region_Code Occupation Channel_Code  Vintage  \\\n",
       "0  DSYEP385  Female   32       RG260   Salaried           X1       32   \n",
       "1  DWL8AOKU  Female   76       RG268      Other           X2       68   \n",
       "2  FTPA66KP  Female   28       RG273   Salaried           X1       32   \n",
       "3  5XHEBRTT  Female   26       RG251   Salaried           X3       21   \n",
       "4  NVQYNSFZ    Male   27       RG268   Salaried           X1       20   \n",
       "\n",
       "  Credit_Product  Avg_Account_Balance Is_Active  Is_Lead  \n",
       "0             No               307450        No        0  \n",
       "1             No               722546       Yes        0  \n",
       "2             No               695152        No        0  \n",
       "3             No               499476        No        0  \n",
       "4             No               860389       Yes        0  "
      ]
     },
     "execution_count": 18,
     "metadata": {},
     "output_type": "execute_result"
    }
   ],
   "source": [
    "train.head()"
   ]
  },
  {
   "cell_type": "code",
   "execution_count": 19,
   "id": "earlier-there",
   "metadata": {
    "papermill": {
     "duration": 0.066722,
     "end_time": "2021-06-21T10:44:35.783673",
     "exception": false,
     "start_time": "2021-06-21T10:44:35.716951",
     "status": "completed"
    },
    "tags": []
   },
   "outputs": [
    {
     "data": {
      "text/plain": [
       "(199999, 11)"
      ]
     },
     "execution_count": 19,
     "metadata": {},
     "output_type": "execute_result"
    }
   ],
   "source": [
    "train.shape"
   ]
  },
  {
   "cell_type": "code",
   "execution_count": 25,
   "id": "5fccfbef-dab4-4186-9cc5-2c75a7bdf096",
   "metadata": {},
   "outputs": [
    {
     "name": "stdout",
     "output_type": "stream",
     "text": [
      "<class 'pandas.core.frame.DataFrame'>\n",
      "RangeIndex: 199999 entries, 0 to 199998\n",
      "Data columns (total 11 columns):\n",
      " #   Column               Non-Null Count   Dtype \n",
      "---  ------               --------------   ----- \n",
      " 0   ID                   199999 non-null  object\n",
      " 1   Gender               199999 non-null  object\n",
      " 2   Age                  199999 non-null  int32 \n",
      " 3   Region_Code          199999 non-null  object\n",
      " 4   Occupation           199999 non-null  object\n",
      " 5   Channel_Code         199999 non-null  object\n",
      " 6   Vintage              199999 non-null  int32 \n",
      " 7   Credit_Product       176175 non-null  object\n",
      " 8   Avg_Account_Balance  199999 non-null  int32 \n",
      " 9   Is_Active            199999 non-null  object\n",
      " 10  Is_Lead              199999 non-null  int32 \n",
      "dtypes: int32(4), object(7)\n",
      "memory usage: 13.7+ MB\n"
     ]
    }
   ],
   "source": [
    "train.info() "
   ]
  },
  {
   "cell_type": "code",
   "execution_count": 21,
   "id": "b89a3b3e-5d04-4035-b56f-180784dbfd35",
   "metadata": {},
   "outputs": [
    {
     "name": "stderr",
     "output_type": "stream",
     "text": [
      "                                                                                \r"
     ]
    },
    {
     "data": {
      "text/plain": [
       "105312"
      ]
     },
     "execution_count": 21,
     "metadata": {},
     "output_type": "execute_result"
    }
   ],
   "source": [
    "test = spark.read\\\n",
    "    .format(\"iceberg\")\\\n",
    "    .load(f\"{database}.{test_tablename}\").toPandas()\n",
    "    # show the number of rows - should be 2449\n",
    "test.shape[0]"
   ]
  },
  {
   "cell_type": "code",
   "execution_count": 22,
   "id": "extended-simpson",
   "metadata": {
    "papermill": {
     "duration": 0.078137,
     "end_time": "2021-06-21T10:44:35.918803",
     "exception": false,
     "start_time": "2021-06-21T10:44:35.840666",
     "status": "completed"
    },
    "tags": []
   },
   "outputs": [
    {
     "data": {
      "text/html": [
       "<div>\n",
       "<style scoped>\n",
       "    .dataframe tbody tr th:only-of-type {\n",
       "        vertical-align: middle;\n",
       "    }\n",
       "\n",
       "    .dataframe tbody tr th {\n",
       "        vertical-align: top;\n",
       "    }\n",
       "\n",
       "    .dataframe thead th {\n",
       "        text-align: right;\n",
       "    }\n",
       "</style>\n",
       "<table border=\"1\" class=\"dataframe\">\n",
       "  <thead>\n",
       "    <tr style=\"text-align: right;\">\n",
       "      <th></th>\n",
       "      <th>ID</th>\n",
       "      <th>Gender</th>\n",
       "      <th>Age</th>\n",
       "      <th>Region_Code</th>\n",
       "      <th>Occupation</th>\n",
       "      <th>Channel_Code</th>\n",
       "      <th>Vintage</th>\n",
       "      <th>Credit_Product</th>\n",
       "      <th>Avg_Account_Balance</th>\n",
       "      <th>Is_Active</th>\n",
       "    </tr>\n",
       "  </thead>\n",
       "  <tbody>\n",
       "    <tr>\n",
       "      <th>0</th>\n",
       "      <td>VBENBARO</td>\n",
       "      <td>Male</td>\n",
       "      <td>29</td>\n",
       "      <td>RG254</td>\n",
       "      <td>Other</td>\n",
       "      <td>X1</td>\n",
       "      <td>25</td>\n",
       "      <td>Yes</td>\n",
       "      <td>742366</td>\n",
       "      <td>No</td>\n",
       "    </tr>\n",
       "    <tr>\n",
       "      <th>1</th>\n",
       "      <td>CCMEWNKY</td>\n",
       "      <td>Male</td>\n",
       "      <td>43</td>\n",
       "      <td>RG268</td>\n",
       "      <td>Other</td>\n",
       "      <td>X2</td>\n",
       "      <td>49</td>\n",
       "      <td>None</td>\n",
       "      <td>925537</td>\n",
       "      <td>No</td>\n",
       "    </tr>\n",
       "    <tr>\n",
       "      <th>2</th>\n",
       "      <td>VK3KGA9M</td>\n",
       "      <td>Male</td>\n",
       "      <td>31</td>\n",
       "      <td>RG270</td>\n",
       "      <td>Salaried</td>\n",
       "      <td>X1</td>\n",
       "      <td>14</td>\n",
       "      <td>No</td>\n",
       "      <td>215949</td>\n",
       "      <td>No</td>\n",
       "    </tr>\n",
       "    <tr>\n",
       "      <th>3</th>\n",
       "      <td>TT8RPZVC</td>\n",
       "      <td>Male</td>\n",
       "      <td>29</td>\n",
       "      <td>RG272</td>\n",
       "      <td>Other</td>\n",
       "      <td>X1</td>\n",
       "      <td>33</td>\n",
       "      <td>No</td>\n",
       "      <td>868070</td>\n",
       "      <td>No</td>\n",
       "    </tr>\n",
       "    <tr>\n",
       "      <th>4</th>\n",
       "      <td>SHQZEYTZ</td>\n",
       "      <td>Female</td>\n",
       "      <td>29</td>\n",
       "      <td>RG270</td>\n",
       "      <td>Other</td>\n",
       "      <td>X1</td>\n",
       "      <td>19</td>\n",
       "      <td>No</td>\n",
       "      <td>657087</td>\n",
       "      <td>No</td>\n",
       "    </tr>\n",
       "  </tbody>\n",
       "</table>\n",
       "</div>"
      ],
      "text/plain": [
       "         ID  Gender  Age Region_Code Occupation Channel_Code  Vintage  \\\n",
       "0  VBENBARO    Male   29       RG254      Other           X1       25   \n",
       "1  CCMEWNKY    Male   43       RG268      Other           X2       49   \n",
       "2  VK3KGA9M    Male   31       RG270   Salaried           X1       14   \n",
       "3  TT8RPZVC    Male   29       RG272      Other           X1       33   \n",
       "4  SHQZEYTZ  Female   29       RG270      Other           X1       19   \n",
       "\n",
       "  Credit_Product  Avg_Account_Balance Is_Active  \n",
       "0            Yes               742366        No  \n",
       "1           None               925537        No  \n",
       "2             No               215949        No  \n",
       "3             No               868070        No  \n",
       "4             No               657087        No  "
      ]
     },
     "execution_count": 22,
     "metadata": {},
     "output_type": "execute_result"
    }
   ],
   "source": [
    "test.head()"
   ]
  },
  {
   "cell_type": "code",
   "execution_count": 23,
   "id": "limited-michigan",
   "metadata": {
    "papermill": {
     "duration": 0.065813,
     "end_time": "2021-06-21T10:44:36.044526",
     "exception": false,
     "start_time": "2021-06-21T10:44:35.978713",
     "status": "completed"
    },
    "tags": []
   },
   "outputs": [
    {
     "data": {
      "text/plain": [
       "(105312, 10)"
      ]
     },
     "execution_count": 23,
     "metadata": {},
     "output_type": "execute_result"
    }
   ],
   "source": [
    "test.shape"
   ]
  },
  {
   "cell_type": "code",
   "execution_count": 26,
   "id": "impaired-penetration",
   "metadata": {
    "papermill": {
     "duration": 0.2508,
     "end_time": "2021-06-21T10:44:36.352159",
     "exception": false,
     "start_time": "2021-06-21T10:44:36.101359",
     "status": "completed"
    },
    "tags": []
   },
   "outputs": [
    {
     "name": "stdout",
     "output_type": "stream",
     "text": [
      "<class 'pandas.core.frame.DataFrame'>\n",
      "RangeIndex: 105312 entries, 0 to 105311\n",
      "Data columns (total 10 columns):\n",
      " #   Column               Non-Null Count   Dtype \n",
      "---  ------               --------------   ----- \n",
      " 0   ID                   105312 non-null  object\n",
      " 1   Gender               105312 non-null  object\n",
      " 2   Age                  105312 non-null  int32 \n",
      " 3   Region_Code          105312 non-null  object\n",
      " 4   Occupation           105312 non-null  object\n",
      " 5   Channel_Code         105312 non-null  object\n",
      " 6   Vintage              105312 non-null  int32 \n",
      " 7   Credit_Product       92790 non-null   object\n",
      " 8   Avg_Account_Balance  105312 non-null  int32 \n",
      " 9   Is_Active            105312 non-null  object\n",
      "dtypes: int32(3), object(7)\n",
      "memory usage: 6.8+ MB\n"
     ]
    }
   ],
   "source": [
    "test.info()"
   ]
  },
  {
   "cell_type": "markdown",
   "id": "numeric-identification",
   "metadata": {
    "papermill": {
     "duration": 0.055816,
     "end_time": "2021-06-21T10:44:36.465415",
     "exception": false,
     "start_time": "2021-06-21T10:44:36.409599",
     "status": "completed"
    },
    "tags": []
   },
   "source": [
    "*The above information shows that there are nine features to predict the customer's interests in the recommended credit cards.*\n",
    "\n",
    "*In train dataset there are 245725 observations and 9 features and 1 target column.*"
   ]
  },
  {
   "cell_type": "code",
   "execution_count": 27,
   "id": "static-oxford",
   "metadata": {
    "papermill": {
     "duration": 0.14942,
     "end_time": "2021-06-21T10:44:36.671426",
     "exception": false,
     "start_time": "2021-06-21T10:44:36.522006",
     "status": "completed"
    },
    "tags": []
   },
   "outputs": [
    {
     "name": "stdout",
     "output_type": "stream",
     "text": [
      "<class 'pandas.core.frame.DataFrame'>\n",
      "RangeIndex: 105312 entries, 0 to 105311\n",
      "Data columns (total 10 columns):\n",
      " #   Column               Non-Null Count   Dtype \n",
      "---  ------               --------------   ----- \n",
      " 0   ID                   105312 non-null  object\n",
      " 1   Gender               105312 non-null  object\n",
      " 2   Age                  105312 non-null  int32 \n",
      " 3   Region_Code          105312 non-null  object\n",
      " 4   Occupation           105312 non-null  object\n",
      " 5   Channel_Code         105312 non-null  object\n",
      " 6   Vintage              105312 non-null  int32 \n",
      " 7   Credit_Product       92790 non-null   object\n",
      " 8   Avg_Account_Balance  105312 non-null  int32 \n",
      " 9   Is_Active            105312 non-null  object\n",
      "dtypes: int32(3), object(7)\n",
      "memory usage: 6.8+ MB\n"
     ]
    }
   ],
   "source": [
    "test.info()"
   ]
  },
  {
   "cell_type": "markdown",
   "id": "friendly-anthropology",
   "metadata": {
    "papermill": {
     "duration": 0.082563,
     "end_time": "2021-06-21T10:44:36.817106",
     "exception": false,
     "start_time": "2021-06-21T10:44:36.734543",
     "status": "completed"
    },
    "tags": []
   },
   "source": [
    "*The test dataset contains 105312 obsevations and 9 features.*"
   ]
  },
  {
   "cell_type": "code",
   "execution_count": 28,
   "id": "general-quick",
   "metadata": {
    "papermill": {
     "duration": 0.127703,
     "end_time": "2021-06-21T10:44:37.009054",
     "exception": false,
     "start_time": "2021-06-21T10:44:36.881351",
     "status": "completed"
    },
    "tags": []
   },
   "outputs": [
    {
     "data": {
      "text/html": [
       "<div>\n",
       "<style scoped>\n",
       "    .dataframe tbody tr th:only-of-type {\n",
       "        vertical-align: middle;\n",
       "    }\n",
       "\n",
       "    .dataframe tbody tr th {\n",
       "        vertical-align: top;\n",
       "    }\n",
       "\n",
       "    .dataframe thead th {\n",
       "        text-align: right;\n",
       "    }\n",
       "</style>\n",
       "<table border=\"1\" class=\"dataframe\">\n",
       "  <thead>\n",
       "    <tr style=\"text-align: right;\">\n",
       "      <th></th>\n",
       "      <th>Age</th>\n",
       "      <th>Vintage</th>\n",
       "      <th>Avg_Account_Balance</th>\n",
       "      <th>Is_Lead</th>\n",
       "    </tr>\n",
       "  </thead>\n",
       "  <tbody>\n",
       "    <tr>\n",
       "      <th>count</th>\n",
       "      <td>199999.000000</td>\n",
       "      <td>199999.000000</td>\n",
       "      <td>1.999990e+05</td>\n",
       "      <td>199999.000000</td>\n",
       "    </tr>\n",
       "    <tr>\n",
       "      <th>mean</th>\n",
       "      <td>43.857974</td>\n",
       "      <td>46.958290</td>\n",
       "      <td>1.128524e+06</td>\n",
       "      <td>0.237281</td>\n",
       "    </tr>\n",
       "    <tr>\n",
       "      <th>std</th>\n",
       "      <td>14.832063</td>\n",
       "      <td>32.341363</td>\n",
       "      <td>8.519638e+05</td>\n",
       "      <td>0.425417</td>\n",
       "    </tr>\n",
       "    <tr>\n",
       "      <th>min</th>\n",
       "      <td>23.000000</td>\n",
       "      <td>7.000000</td>\n",
       "      <td>2.079000e+04</td>\n",
       "      <td>0.000000</td>\n",
       "    </tr>\n",
       "    <tr>\n",
       "      <th>25%</th>\n",
       "      <td>30.000000</td>\n",
       "      <td>20.000000</td>\n",
       "      <td>6.045230e+05</td>\n",
       "      <td>0.000000</td>\n",
       "    </tr>\n",
       "    <tr>\n",
       "      <th>50%</th>\n",
       "      <td>43.000000</td>\n",
       "      <td>32.000000</td>\n",
       "      <td>8.951620e+05</td>\n",
       "      <td>0.000000</td>\n",
       "    </tr>\n",
       "    <tr>\n",
       "      <th>75%</th>\n",
       "      <td>54.000000</td>\n",
       "      <td>73.000000</td>\n",
       "      <td>1.366955e+06</td>\n",
       "      <td>0.000000</td>\n",
       "    </tr>\n",
       "    <tr>\n",
       "      <th>max</th>\n",
       "      <td>85.000000</td>\n",
       "      <td>135.000000</td>\n",
       "      <td>1.035201e+07</td>\n",
       "      <td>1.000000</td>\n",
       "    </tr>\n",
       "  </tbody>\n",
       "</table>\n",
       "</div>"
      ],
      "text/plain": [
       "                 Age        Vintage  Avg_Account_Balance        Is_Lead\n",
       "count  199999.000000  199999.000000         1.999990e+05  199999.000000\n",
       "mean       43.857974      46.958290         1.128524e+06       0.237281\n",
       "std        14.832063      32.341363         8.519638e+05       0.425417\n",
       "min        23.000000       7.000000         2.079000e+04       0.000000\n",
       "25%        30.000000      20.000000         6.045230e+05       0.000000\n",
       "50%        43.000000      32.000000         8.951620e+05       0.000000\n",
       "75%        54.000000      73.000000         1.366955e+06       0.000000\n",
       "max        85.000000     135.000000         1.035201e+07       1.000000"
      ]
     },
     "execution_count": 28,
     "metadata": {},
     "output_type": "execute_result"
    }
   ],
   "source": [
    "# Let's see a statistical summary of the numerical columns in the train and test dataset.\n",
    "\n",
    "train.describe()"
   ]
  },
  {
   "cell_type": "markdown",
   "id": "scenic-waste",
   "metadata": {
    "papermill": {
     "duration": 0.059853,
     "end_time": "2021-06-21T10:44:37.128347",
     "exception": false,
     "start_time": "2021-06-21T10:44:37.068494",
     "status": "completed"
    },
    "tags": []
   },
   "source": [
    "***The above summary shows that the average age of the customers who are eligible to take credit cards is 43 and the minimum age is 23 and the maximum age is 85.***\n",
    "\n",
    "***Vintage is how long the eligible customers have been on the bank records.The average is 3 year 8 months and the minimum is 7 months, the maximum year is 11 years(135 months)***"
   ]
  },
  {
   "cell_type": "code",
   "execution_count": 29,
   "id": "scheduled-breed",
   "metadata": {
    "papermill": {
     "duration": 0.093652,
     "end_time": "2021-06-21T10:44:37.280016",
     "exception": false,
     "start_time": "2021-06-21T10:44:37.186364",
     "status": "completed"
    },
    "tags": []
   },
   "outputs": [
    {
     "data": {
      "text/html": [
       "<div>\n",
       "<style scoped>\n",
       "    .dataframe tbody tr th:only-of-type {\n",
       "        vertical-align: middle;\n",
       "    }\n",
       "\n",
       "    .dataframe tbody tr th {\n",
       "        vertical-align: top;\n",
       "    }\n",
       "\n",
       "    .dataframe thead th {\n",
       "        text-align: right;\n",
       "    }\n",
       "</style>\n",
       "<table border=\"1\" class=\"dataframe\">\n",
       "  <thead>\n",
       "    <tr style=\"text-align: right;\">\n",
       "      <th></th>\n",
       "      <th>Age</th>\n",
       "      <th>Vintage</th>\n",
       "      <th>Avg_Account_Balance</th>\n",
       "    </tr>\n",
       "  </thead>\n",
       "  <tbody>\n",
       "    <tr>\n",
       "      <th>count</th>\n",
       "      <td>105312.000000</td>\n",
       "      <td>105312.000000</td>\n",
       "      <td>1.053120e+05</td>\n",
       "    </tr>\n",
       "    <tr>\n",
       "      <th>mean</th>\n",
       "      <td>43.871002</td>\n",
       "      <td>46.842819</td>\n",
       "      <td>1.134195e+06</td>\n",
       "    </tr>\n",
       "    <tr>\n",
       "      <th>std</th>\n",
       "      <td>14.872890</td>\n",
       "      <td>32.273634</td>\n",
       "      <td>8.662430e+05</td>\n",
       "    </tr>\n",
       "    <tr>\n",
       "      <th>min</th>\n",
       "      <td>24.000000</td>\n",
       "      <td>7.000000</td>\n",
       "      <td>2.259700e+04</td>\n",
       "    </tr>\n",
       "    <tr>\n",
       "      <th>25%</th>\n",
       "      <td>30.000000</td>\n",
       "      <td>20.000000</td>\n",
       "      <td>6.039822e+05</td>\n",
       "    </tr>\n",
       "    <tr>\n",
       "      <th>50%</th>\n",
       "      <td>43.000000</td>\n",
       "      <td>32.000000</td>\n",
       "      <td>8.966345e+05</td>\n",
       "    </tr>\n",
       "    <tr>\n",
       "      <th>75%</th>\n",
       "      <td>54.000000</td>\n",
       "      <td>73.000000</td>\n",
       "      <td>1.371598e+06</td>\n",
       "    </tr>\n",
       "    <tr>\n",
       "      <th>max</th>\n",
       "      <td>85.000000</td>\n",
       "      <td>135.000000</td>\n",
       "      <td>9.908858e+06</td>\n",
       "    </tr>\n",
       "  </tbody>\n",
       "</table>\n",
       "</div>"
      ],
      "text/plain": [
       "                 Age        Vintage  Avg_Account_Balance\n",
       "count  105312.000000  105312.000000         1.053120e+05\n",
       "mean       43.871002      46.842819         1.134195e+06\n",
       "std        14.872890      32.273634         8.662430e+05\n",
       "min        24.000000       7.000000         2.259700e+04\n",
       "25%        30.000000      20.000000         6.039822e+05\n",
       "50%        43.000000      32.000000         8.966345e+05\n",
       "75%        54.000000      73.000000         1.371598e+06\n",
       "max        85.000000     135.000000         9.908858e+06"
      ]
     },
     "execution_count": 29,
     "metadata": {},
     "output_type": "execute_result"
    }
   ],
   "source": [
    "test.describe()"
   ]
  },
  {
   "cell_type": "markdown",
   "id": "induced-jamaica",
   "metadata": {
    "papermill": {
     "duration": 0.056561,
     "end_time": "2021-06-21T10:44:37.395498",
     "exception": false,
     "start_time": "2021-06-21T10:44:37.338937",
     "status": "completed"
    },
    "tags": []
   },
   "source": [
    "## *Exploratory Data Analysis*"
   ]
  },
  {
   "cell_type": "code",
   "execution_count": 30,
   "id": "metropolitan-hands",
   "metadata": {
    "papermill": {
     "duration": 0.305876,
     "end_time": "2021-06-21T10:44:37.758390",
     "exception": false,
     "start_time": "2021-06-21T10:44:37.452514",
     "status": "completed"
    },
    "tags": []
   },
   "outputs": [
    {
     "name": "stdout",
     "output_type": "stream",
     "text": [
      "Is_Lead\n",
      "0    152543\n",
      "1     47456\n",
      "Name: count, dtype: int64\n"
     ]
    },
    {
     "data": {
      "image/png": "[encoded data removed]",
      "text/plain": [
       "<Figure size 864x576 with 1 Axes>"
      ]
     },
     "metadata": {},
     "output_type": "display_data"
    }
   ],
   "source": [
    "plt.figure(figsize = (12,8))\n",
    "print(train['Is_Lead'].value_counts())\n",
    "colors = ['#66b3ff','#ffcc99']\n",
    "plt.pie(train['Is_Lead'].value_counts(), labels = ['0','1'], autopct='%.1f%%',colors= colors)\n",
    "plt.legend()\n",
    "plt.show()"
   ]
  },
  {
   "cell_type": "markdown",
   "id": "interpreted-myanmar",
   "metadata": {
    "papermill": {
     "duration": 0.059493,
     "end_time": "2021-06-21T10:44:37.876135",
     "exception": false,
     "start_time": "2021-06-21T10:44:37.816642",
     "status": "completed"
    },
    "tags": []
   },
   "source": [
    "***The dataset is quite imbalanced as 76% peoples are not not interested for Credit card and 24% are interested***"
   ]
  },
  {
   "cell_type": "markdown",
   "id": "equipped-selling",
   "metadata": {
    "papermill": {
     "duration": 0.058177,
     "end_time": "2021-06-21T10:44:37.993693",
     "exception": false,
     "start_time": "2021-06-21T10:44:37.935516",
     "status": "completed"
    },
    "tags": []
   },
   "source": [
    "***Let's see gender wise customer's response on recommended credit cards.***"
   ]
  },
  {
   "cell_type": "code",
   "execution_count": 31,
   "id": "occupational-prescription",
   "metadata": {
    "papermill": {
     "duration": 0.587005,
     "end_time": "2021-06-21T10:44:38.638684",
     "exception": false,
     "start_time": "2021-06-21T10:44:38.051679",
     "status": "completed"
    },
    "tags": []
   },
   "outputs": [
    {
     "data": {
      "text/plain": [
       "Text(0.5, 1.0, 'Gender Wise Customer Response in the Recommended Credit Cards')"
      ]
     },
     "execution_count": 31,
     "metadata": {},
     "output_type": "execute_result"
    },
    {
     "data": {
      "image/png": "[encoded data removed]",
      "text/plain": [
       "<Figure size 864x576 with 1 Axes>"
      ]
     },
     "metadata": {
      "needs_background": "light"
     },
     "output_type": "display_data"
    }
   ],
   "source": [
    "plt.figure(figsize = (12,8))\n",
    "sns.countplot(x='Gender', hue='Is_Lead', data=train).set_title('Gender Wise Customer Response in the Recommended Credit Cards')"
   ]
  },
  {
   "cell_type": "markdown",
   "id": "numerous-southeast",
   "metadata": {
    "papermill": {
     "duration": 0.060869,
     "end_time": "2021-06-21T10:44:38.759633",
     "exception": false,
     "start_time": "2021-06-21T10:44:38.698764",
     "status": "completed"
    },
    "tags": []
   },
   "source": [
    "***The count plot shows that male customers are highly interests in recommended credit cards when compare to female customers.***\n",
    "\n",
    "***The percentage of customers not interested in the recommended policies is high in both genders.***"
   ]
  },
  {
   "cell_type": "code",
   "execution_count": 32,
   "id": "finite-electricity",
   "metadata": {
    "papermill": {
     "duration": 0.607548,
     "end_time": "2021-06-21T10:44:39.426520",
     "exception": false,
     "start_time": "2021-06-21T10:44:38.818972",
     "status": "completed"
    },
    "tags": []
   },
   "outputs": [
    {
     "data": {
      "text/plain": [
       "Text(0.5, 1.0, 'Occupation Wise Customer Response in the Recommended Credit Cards')"
      ]
     },
     "execution_count": 32,
     "metadata": {},
     "output_type": "execute_result"
    },
    {
     "data": {
      "image/png": "[encoded data removed]",
      "text/plain": [
       "<Figure size 864x576 with 1 Axes>"
      ]
     },
     "metadata": {
      "needs_background": "light"
     },
     "output_type": "display_data"
    }
   ],
   "source": [
    "plt.figure(figsize = (12,8))\n",
    "sns.countplot(x='Occupation', hue = 'Is_Lead', data = train).set_title('Occupation Wise Customer Response in the Recommended Credit Cards')"
   ]
  },
  {
   "cell_type": "markdown",
   "id": "simplified-health",
   "metadata": {
    "papermill": {
     "duration": 0.069207,
     "end_time": "2021-06-21T10:44:39.562569",
     "exception": false,
     "start_time": "2021-06-21T10:44:39.493362",
     "status": "completed"
    },
    "tags": []
   },
   "source": [
    "***Self employed people are highly interested in recomeended credit cards when comapared to others***"
   ]
  },
  {
   "cell_type": "code",
   "execution_count": 33,
   "id": "friendly-horizontal",
   "metadata": {
    "papermill": {
     "duration": 0.556956,
     "end_time": "2021-06-21T10:44:40.188394",
     "exception": false,
     "start_time": "2021-06-21T10:44:39.631438",
     "status": "completed"
    },
    "tags": []
   },
   "outputs": [
    {
     "data": {
      "text/plain": [
       "Text(0.5, 1.0, 'Channel Code Wise Customer Response in the Recommended Credit Cards')"
      ]
     },
     "execution_count": 33,
     "metadata": {},
     "output_type": "execute_result"
    },
    {
     "data": {
      "image/png": "[encoded data removed]",
      "text/plain": [
       "<Figure size 864x576 with 1 Axes>"
      ]
     },
     "metadata": {
      "needs_background": "light"
     },
     "output_type": "display_data"
    }
   ],
   "source": [
    "plt.figure(figsize = (12,8))\n",
    "sns.countplot(x='Channel_Code', hue = 'Is_Lead', data = train).set_title('Channel Code Wise Customer Response in the Recommended Credit Cards')"
   ]
  },
  {
   "cell_type": "markdown",
   "id": "japanese-hollywood",
   "metadata": {
    "papermill": {
     "duration": 0.066964,
     "end_time": "2021-06-21T10:44:40.322881",
     "exception": false,
     "start_time": "2021-06-21T10:44:40.255917",
     "status": "completed"
    },
    "tags": []
   },
   "source": [
    "***Channel X3 and X2 people are highly interested in recomeended credit cards when comapared to others, while people belongs to channel X1 are hihly non-interested in recommended credit cards.***"
   ]
  },
  {
   "cell_type": "code",
   "execution_count": 34,
   "id": "afraid-train",
   "metadata": {
    "papermill": {
     "duration": 0.591261,
     "end_time": "2021-06-21T10:44:40.977523",
     "exception": false,
     "start_time": "2021-06-21T10:44:40.386262",
     "status": "completed"
    },
    "tags": []
   },
   "outputs": [
    {
     "data": {
      "text/plain": [
       "Text(0.5, 1.0, 'Channel Code Wise Customer Response in the Recommended Credit Cards')"
      ]
     },
     "execution_count": 34,
     "metadata": {},
     "output_type": "execute_result"
    },
    {
     "data": {
      "image/png": "[encoded data removed]",
      "text/plain": [
       "<Figure size 720x432 with 1 Axes>"
      ]
     },
     "metadata": {
      "needs_background": "light"
     },
     "output_type": "display_data"
    }
   ],
   "source": [
    "plt.figure(figsize = (10,6))\n",
    "sns.countplot(x='Channel_Code', hue = 'Is_Lead', data = train).set_title('Channel Code Wise Customer Response in the Recommended Credit Cards')"
   ]
  },
  {
   "cell_type": "markdown",
   "id": "marine-sigma",
   "metadata": {
    "papermill": {
     "duration": 0.064124,
     "end_time": "2021-06-21T10:44:41.107138",
     "exception": false,
     "start_time": "2021-06-21T10:44:41.043014",
     "status": "completed"
    },
    "tags": []
   },
   "source": []
  },
  {
   "cell_type": "code",
   "execution_count": 35,
   "id": "close-energy",
   "metadata": {
    "papermill": {
     "duration": 0.784258,
     "end_time": "2021-06-21T10:44:41.956466",
     "exception": false,
     "start_time": "2021-06-21T10:44:41.172208",
     "status": "completed"
    },
    "tags": []
   },
   "outputs": [
    {
     "data": {
      "text/plain": [
       "<Axes: xlabel='Credit_Product', ylabel='count'>"
      ]
     },
     "execution_count": 35,
     "metadata": {},
     "output_type": "execute_result"
    },
    {
     "data": {
      "image/png": "[encoded data removed]",
      "text/plain": [
       "<Figure size 720x432 with 1 Axes>"
      ]
     },
     "metadata": {
      "needs_background": "light"
     },
     "output_type": "display_data"
    }
   ],
   "source": [
    "plt.figure(figsize = (10,6))\n",
    "sns.countplot(data=train.fillna('Missing'), x='Credit_Product', hue='Is_Lead', palette='summer')"
   ]
  },
  {
   "cell_type": "markdown",
   "id": "wooden-strength",
   "metadata": {
    "papermill": {
     "duration": 0.067548,
     "end_time": "2021-06-21T10:44:42.093011",
     "exception": false,
     "start_time": "2021-06-21T10:44:42.025463",
     "status": "completed"
    },
    "tags": []
   },
   "source": [
    "***It is very strange to observe that the missing values do actually have more leads. Thus we should fill the missing values.***"
   ]
  },
  {
   "cell_type": "code",
   "execution_count": 36,
   "id": "particular-factory",
   "metadata": {
    "papermill": {
     "duration": 0.98548,
     "end_time": "2021-06-21T10:44:43.149077",
     "exception": false,
     "start_time": "2021-06-21T10:44:42.163597",
     "status": "completed"
    },
    "tags": []
   },
   "outputs": [
    {
     "data": {
      "image/png": "[encoded data removed]",
      "text/plain": [
       "<Figure size 1080x576 with 1 Axes>"
      ]
     },
     "metadata": {
      "needs_background": "light"
     },
     "output_type": "display_data"
    }
   ],
   "source": [
    "# Region_Code : Code of the Region for the customers\n",
    "\n",
    "plt.figure(figsize=(15,8))\n",
    "ax = sns.countplot(train.Region_Code)\n",
    "#ax = sns.countplot(train.Region_Code, hue=train.Is_Lead)\n",
    "\n",
    "ax.set_title('Distribution of Region Code')\n",
    "plt.xticks(rotation=45)\n",
    "plt.show()"
   ]
  },
  {
   "cell_type": "markdown",
   "id": "collectible-philosophy",
   "metadata": {
    "papermill": {
     "duration": 0.067197,
     "end_time": "2021-06-21T10:44:43.283581",
     "exception": false,
     "start_time": "2021-06-21T10:44:43.216384",
     "status": "completed"
    },
    "tags": []
   },
   "source": [
    "* Each region has differnt trend\n",
    " \n",
    "* Dummy Encoding of Region Code will increase complexity of Model and also preformance will be lowered\n",
    " \n",
    "* Will use Lead Probabilty Score of each region instead of categories.\n",
    "\n",
    "\n",
    "*probability_score = no_of_leads_in_region / no_of_customers_in_region*"
   ]
  },
  {
   "cell_type": "code",
   "execution_count": 37,
   "id": "spectacular-wilderness",
   "metadata": {
    "papermill": {
     "duration": 0.60507,
     "end_time": "2021-06-21T10:44:43.956684",
     "exception": false,
     "start_time": "2021-06-21T10:44:43.351614",
     "status": "completed"
    },
    "tags": []
   },
   "outputs": [
    {
     "data": {
      "image/png": "[encoded data removed]",
      "text/plain": [
       "<Figure size 1080x432 with 1 Axes>"
      ]
     },
     "metadata": {
      "needs_background": "light"
     },
     "output_type": "display_data"
    }
   ],
   "source": [
    "rc_encoding = train.groupby('Region_Code')['Is_Lead'].mean().reset_index()\n",
    "\n",
    "plt.figure(figsize=(15,6))\n",
    "ax = sns.barplot(x='Region_Code', y='Is_Lead', data=rc_encoding.sort_values(by=['Is_Lead'], ascending=False));\n",
    "ax.set_title('Lead Probability Distribution of Region Code')\n",
    "plt.xticks(rotation=45)\n",
    "plt.show()"
   ]
  },
  {
   "cell_type": "code",
   "execution_count": 38,
   "id": "stuck-queensland",
   "metadata": {
    "papermill": {
     "duration": 1.541677,
     "end_time": "2021-06-21T10:44:45.566888",
     "exception": false,
     "start_time": "2021-06-21T10:44:44.025211",
     "status": "completed"
    },
    "tags": []
   },
   "outputs": [
    {
     "name": "stderr",
     "output_type": "stream",
     "text": [
      "/tmp/ipykernel_292/2841360305.py:4: UserWarning: \n",
      "\n",
      "`distplot` is a deprecated function and will be removed in seaborn v0.14.0.\n",
      "\n",
      "Please adapt your code to use either `displot` (a figure-level function with\n",
      "similar flexibility) or `histplot` (an axes-level function for histograms).\n",
      "\n",
      "For a guide to updating your code to use the new functions, please see\n",
      "https://gist.github.com/mwaskom/de44147ed2974457ad6372750bbe5751\n",
      "\n",
      "  ax = sns.distplot(train.Avg_Account_Balance/10000)\n"
     ]
    },
    {
     "data": {
      "image/png": "[encoded data removed]",
      "text/plain": [
       "<Figure size 864x432 with 1 Axes>"
      ]
     },
     "metadata": {
      "needs_background": "light"
     },
     "output_type": "display_data"
    }
   ],
   "source": [
    "# Avg_Account_Balance : Average Account Balance for the Customer in last 12 Months\n",
    "\n",
    "plt.figure(figsize=(12,6))\n",
    "ax = sns.distplot(train.Avg_Account_Balance/10000)\n",
    "ax.set_title('Distribution of Average Account Balance (10k scale)')\n",
    "plt.show()"
   ]
  },
  {
   "cell_type": "code",
   "execution_count": 39,
   "id": "absent-finnish",
   "metadata": {
    "papermill": {
     "duration": 0.358014,
     "end_time": "2021-06-21T10:44:45.994367",
     "exception": false,
     "start_time": "2021-06-21T10:44:45.636353",
     "status": "completed"
    },
    "tags": []
   },
   "outputs": [
    {
     "data": {
      "image/png": "[encoded data removed]",
      "text/plain": [
       "<Figure size 720x432 with 1 Axes>"
      ]
     },
     "metadata": {
      "needs_background": "light"
     },
     "output_type": "display_data"
    }
   ],
   "source": [
    "plt.figure(figsize=(10,6))\n",
    "ax = sns.boxplot(train.Avg_Account_Balance, orient = 'v')\n",
    "ax.set_title('Distribution of Average Account Balance ')\n",
    "plt.show()"
   ]
  },
  {
   "cell_type": "markdown",
   "id": "liable-pioneer",
   "metadata": {
    "papermill": {
     "duration": 0.070175,
     "end_time": "2021-06-21T10:44:46.135929",
     "exception": false,
     "start_time": "2021-06-21T10:44:46.065754",
     "status": "completed"
    },
    "tags": []
   },
   "source": [
    "*We have outliers in the Average Account Balance feature*"
   ]
  },
  {
   "cell_type": "code",
   "execution_count": 40,
   "id": "molecular-iraqi",
   "metadata": {
    "papermill": {
     "duration": 1.683261,
     "end_time": "2021-06-21T10:44:47.889207",
     "exception": false,
     "start_time": "2021-06-21T10:44:46.205946",
     "status": "completed"
    },
    "tags": []
   },
   "outputs": [
    {
     "name": "stderr",
     "output_type": "stream",
     "text": [
      "/tmp/ipykernel_292/1559974286.py:4: UserWarning: \n",
      "\n",
      "`distplot` is a deprecated function and will be removed in seaborn v0.14.0.\n",
      "\n",
      "Please adapt your code to use either `displot` (a figure-level function with\n",
      "similar flexibility) or `histplot` (an axes-level function for histograms).\n",
      "\n",
      "For a guide to updating your code to use the new functions, please see\n",
      "https://gist.github.com/mwaskom/de44147ed2974457ad6372750bbe5751\n",
      "\n",
      "  ax = sns.distplot(train.Age)\n"
     ]
    },
    {
     "data": {
      "image/png": "[encoded data removed]",
      "text/plain": [
       "<Figure size 864x432 with 1 Axes>"
      ]
     },
     "metadata": {
      "needs_background": "light"
     },
     "output_type": "display_data"
    }
   ],
   "source": [
    "# Age: Age of the Customer (in Years)\n",
    "\n",
    "plt.figure(figsize=(12, 6))\n",
    "ax = sns.distplot(train.Age)\n",
    "ax.set_title('Distribution of Age')\n",
    "plt.show()"
   ]
  },
  {
   "cell_type": "code",
   "execution_count": 41,
   "id": "pediatric-chuck",
   "metadata": {
    "papermill": {
     "duration": 0.217421,
     "end_time": "2021-06-21T10:44:48.183597",
     "exception": false,
     "start_time": "2021-06-21T10:44:47.966176",
     "status": "completed"
    },
    "tags": []
   },
   "outputs": [
    {
     "data": {
      "text/plain": [
       "Text(0.5, 1.0, 'Distribution of Age')"
      ]
     },
     "execution_count": 41,
     "metadata": {},
     "output_type": "execute_result"
    },
    {
     "data": {
      "image/png": "[encoded data removed]",
      "text/plain": [
       "<Figure size 864x432 with 1 Axes>"
      ]
     },
     "metadata": {
      "needs_background": "light"
     },
     "output_type": "display_data"
    }
   ],
   "source": [
    "plt.figure(figsize=(12, 6))\n",
    "sns.boxplot(train.Age).set_title(\"Distribution of Age\")"
   ]
  },
  {
   "cell_type": "code",
   "execution_count": null,
   "id": "subject-royal",
   "metadata": {
    "papermill": {
     "duration": 0.084973,
     "end_time": "2021-06-21T10:47:21.553716",
     "exception": false,
     "start_time": "2021-06-21T10:47:21.468743",
     "status": "completed"
    },
    "tags": []
   },
   "outputs": [],
   "source": []
  }
 ],
 "metadata": {
  "kernelspec": {
   "display_name": "Python 3 (ipykernel)",
   "language": "python",
   "name": "python3"
  },
  "language_info": {
   "codemirror_mode": {
    "name": "ipython",
    "version": 3
   },
   "file_extension": ".py",
   "mimetype": "text/x-python",
   "name": "python",
   "nbconvert_exporter": "python",
   "pygments_lexer": "ipython3",
   "version": "3.10.13"
  },
  "papermill": {
   "default_parameters": {},
   "duration": 175.791802,
   "end_time": "2021-06-21T10:47:22.552361",
   "environment_variables": {},
   "exception": null,
   "input_path": "__notebook__.ipynb",
   "output_path": "__notebook__.ipynb",
   "parameters": {},
   "start_time": "2021-06-21T10:44:26.760559",
   "version": "2.3.2"
  }
 },
 "nbformat": 4,
 "nbformat_minor": 5
}

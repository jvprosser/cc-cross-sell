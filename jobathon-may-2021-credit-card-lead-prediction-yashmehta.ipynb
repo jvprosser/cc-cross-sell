{
 "cells": [
  {
   "cell_type": "code",
   "execution_count": 18,
   "id": "82c25782",
   "metadata": {
    "_cell_guid": "b1076dfc-b9ad-4769-8c92-a6c4dae69d19",
    "_uuid": "8f2839f25d086af736a60e9eeb907d3b93b6e0e5",
    "papermill": {
     "duration": 7.224258,
     "end_time": "2022-01-19T04:17:44.624759",
     "exception": false,
     "start_time": "2022-01-19T04:17:37.400501",
     "status": "completed"
    },
    "tags": []
   },
   "outputs": [],
   "source": [
    "import pandas as pd\n",
    "import numpy as np\n",
    "import tensorflow as tf\n",
    "import seaborn as sns\n",
    "import matplotlib.pyplot as plt\n",
    "\n",
    "from sklearn.model_selection import train_test_split\n",
    "from sklearn.preprocessing import StandardScaler\n",
    "\n",
    "from sklearn.linear_model import LogisticRegression\n",
    "from sklearn.neighbors import KNeighborsClassifier\n",
    "from sklearn.tree import DecisionTreeClassifier\n",
    "from sklearn.svm import LinearSVC, SVC\n",
    "from sklearn.neural_network import MLPClassifier\n",
    "from sklearn.ensemble import RandomForestClassifier, GradientBoostingClassifier\n",
    "from sklearn.ensemble import BaggingClassifier\n",
    "import xgboost as xgb\n",
    "\n",
    "from imblearn.over_sampling import SMOTE, RandomOverSampler"
   ]
  },
  {
   "cell_type": "code",
   "execution_count": null,
   "id": "41b5a5f2-1e60-40d4-9aed-86725f2862dd",
   "metadata": {},
   "outputs": [],
   "source": [
    "import cml.data_v1 as cmldata\n",
    "\n",
    "# Sample in-code customization of spark configurations\n",
    "#from pyspark import SparkContext\n",
    "#SparkContext.setSystemProperty('spark.executor.cores', '1')\n",
    "#SparkContext.setSystemProperty('spark.executor.memory', '2g')\n",
    "\n",
    "CONNECTION_NAME = \"go01-aw-dl\"\n",
    "conn = cmldata.get_connection(CONNECTION_NAME)\n",
    "spark = conn.get_spark_session()\n",
    "\n",
    "# Sample usage to run query through spark\n",
    "EXAMPLE_SQL_QUERY = \"show databases\"\n",
    "spark.sql(EXAMPLE_SQL_QUERY).show()\n"
   ]
  },
  {
   "cell_type": "code",
   "execution_count": 19,
   "id": "5e1dd31e",
   "metadata": {
    "papermill": {
     "duration": 0.588332,
     "end_time": "2022-01-19T04:17:45.232158",
     "exception": false,
     "start_time": "2022-01-19T04:17:44.643826",
     "status": "completed"
    },
    "tags": []
   },
   "outputs": [],
   "source": [
    "data = pd.read_csv('/home/cdsw/train.csv')"
   ]
  },
  {
   "cell_type": "code",
   "execution_count": 20,
   "id": "2b4fed37",
   "metadata": {
    "papermill": {
     "duration": 0.062423,
     "end_time": "2022-01-19T04:17:45.313432",
     "exception": false,
     "start_time": "2022-01-19T04:17:45.251009",
     "status": "completed"
    },
    "tags": []
   },
   "outputs": [
    {
     "data": {
      "text/html": [
       "<div>\n",
       "<style scoped>\n",
       "    .dataframe tbody tr th:only-of-type {\n",
       "        vertical-align: middle;\n",
       "    }\n",
       "\n",
       "    .dataframe tbody tr th {\n",
       "        vertical-align: top;\n",
       "    }\n",
       "\n",
       "    .dataframe thead th {\n",
       "        text-align: right;\n",
       "    }\n",
       "</style>\n",
       "<table border=\"1\" class=\"dataframe\">\n",
       "  <thead>\n",
       "    <tr style=\"text-align: right;\">\n",
       "      <th></th>\n",
       "      <th>ID</th>\n",
       "      <th>Gender</th>\n",
       "      <th>Age</th>\n",
       "      <th>Region_Code</th>\n",
       "      <th>Occupation</th>\n",
       "      <th>Channel_Code</th>\n",
       "      <th>Vintage</th>\n",
       "      <th>Credit_Product</th>\n",
       "      <th>Avg_Account_Balance</th>\n",
       "      <th>Is_Active</th>\n",
       "      <th>Is_Lead</th>\n",
       "    </tr>\n",
       "  </thead>\n",
       "  <tbody>\n",
       "    <tr>\n",
       "      <th>0</th>\n",
       "      <td>NNVBBKZB</td>\n",
       "      <td>Female</td>\n",
       "      <td>73</td>\n",
       "      <td>RG268</td>\n",
       "      <td>Other</td>\n",
       "      <td>X3</td>\n",
       "      <td>43</td>\n",
       "      <td>No</td>\n",
       "      <td>1045696</td>\n",
       "      <td>No</td>\n",
       "      <td>0</td>\n",
       "    </tr>\n",
       "    <tr>\n",
       "      <th>1</th>\n",
       "      <td>IDD62UNG</td>\n",
       "      <td>Female</td>\n",
       "      <td>30</td>\n",
       "      <td>RG277</td>\n",
       "      <td>Salaried</td>\n",
       "      <td>X1</td>\n",
       "      <td>32</td>\n",
       "      <td>No</td>\n",
       "      <td>581988</td>\n",
       "      <td>No</td>\n",
       "      <td>0</td>\n",
       "    </tr>\n",
       "    <tr>\n",
       "      <th>2</th>\n",
       "      <td>HD3DSEMC</td>\n",
       "      <td>Female</td>\n",
       "      <td>56</td>\n",
       "      <td>RG268</td>\n",
       "      <td>Self_Employed</td>\n",
       "      <td>X3</td>\n",
       "      <td>26</td>\n",
       "      <td>No</td>\n",
       "      <td>1484315</td>\n",
       "      <td>Yes</td>\n",
       "      <td>0</td>\n",
       "    </tr>\n",
       "    <tr>\n",
       "      <th>3</th>\n",
       "      <td>BF3NC7KV</td>\n",
       "      <td>Male</td>\n",
       "      <td>34</td>\n",
       "      <td>RG270</td>\n",
       "      <td>Salaried</td>\n",
       "      <td>X1</td>\n",
       "      <td>19</td>\n",
       "      <td>No</td>\n",
       "      <td>470454</td>\n",
       "      <td>No</td>\n",
       "      <td>0</td>\n",
       "    </tr>\n",
       "    <tr>\n",
       "      <th>4</th>\n",
       "      <td>TEASRWXV</td>\n",
       "      <td>Female</td>\n",
       "      <td>30</td>\n",
       "      <td>RG282</td>\n",
       "      <td>Salaried</td>\n",
       "      <td>X1</td>\n",
       "      <td>33</td>\n",
       "      <td>No</td>\n",
       "      <td>886787</td>\n",
       "      <td>No</td>\n",
       "      <td>0</td>\n",
       "    </tr>\n",
       "    <tr>\n",
       "      <th>...</th>\n",
       "      <td>...</td>\n",
       "      <td>...</td>\n",
       "      <td>...</td>\n",
       "      <td>...</td>\n",
       "      <td>...</td>\n",
       "      <td>...</td>\n",
       "      <td>...</td>\n",
       "      <td>...</td>\n",
       "      <td>...</td>\n",
       "      <td>...</td>\n",
       "      <td>...</td>\n",
       "    </tr>\n",
       "    <tr>\n",
       "      <th>245720</th>\n",
       "      <td>BPAWWXZN</td>\n",
       "      <td>Male</td>\n",
       "      <td>51</td>\n",
       "      <td>RG284</td>\n",
       "      <td>Self_Employed</td>\n",
       "      <td>X3</td>\n",
       "      <td>109</td>\n",
       "      <td>NaN</td>\n",
       "      <td>1925586</td>\n",
       "      <td>No</td>\n",
       "      <td>0</td>\n",
       "    </tr>\n",
       "    <tr>\n",
       "      <th>245721</th>\n",
       "      <td>HFNB7JY8</td>\n",
       "      <td>Male</td>\n",
       "      <td>27</td>\n",
       "      <td>RG268</td>\n",
       "      <td>Salaried</td>\n",
       "      <td>X1</td>\n",
       "      <td>15</td>\n",
       "      <td>No</td>\n",
       "      <td>862952</td>\n",
       "      <td>Yes</td>\n",
       "      <td>0</td>\n",
       "    </tr>\n",
       "    <tr>\n",
       "      <th>245722</th>\n",
       "      <td>GEHAUCWT</td>\n",
       "      <td>Female</td>\n",
       "      <td>26</td>\n",
       "      <td>RG281</td>\n",
       "      <td>Salaried</td>\n",
       "      <td>X1</td>\n",
       "      <td>13</td>\n",
       "      <td>No</td>\n",
       "      <td>670659</td>\n",
       "      <td>No</td>\n",
       "      <td>0</td>\n",
       "    </tr>\n",
       "    <tr>\n",
       "      <th>245723</th>\n",
       "      <td>GE7V8SAH</td>\n",
       "      <td>Female</td>\n",
       "      <td>28</td>\n",
       "      <td>RG273</td>\n",
       "      <td>Salaried</td>\n",
       "      <td>X1</td>\n",
       "      <td>31</td>\n",
       "      <td>No</td>\n",
       "      <td>407504</td>\n",
       "      <td>No</td>\n",
       "      <td>0</td>\n",
       "    </tr>\n",
       "    <tr>\n",
       "      <th>245724</th>\n",
       "      <td>BOCZSWLJ</td>\n",
       "      <td>Male</td>\n",
       "      <td>29</td>\n",
       "      <td>RG269</td>\n",
       "      <td>Salaried</td>\n",
       "      <td>X1</td>\n",
       "      <td>21</td>\n",
       "      <td>No</td>\n",
       "      <td>1129276</td>\n",
       "      <td>No</td>\n",
       "      <td>0</td>\n",
       "    </tr>\n",
       "  </tbody>\n",
       "</table>\n",
       "<p>245725 rows × 11 columns</p>\n",
       "</div>"
      ],
      "text/plain": [
       "              ID  Gender  Age Region_Code     Occupation Channel_Code  \\\n",
       "0       NNVBBKZB  Female   73       RG268          Other           X3   \n",
       "1       IDD62UNG  Female   30       RG277       Salaried           X1   \n",
       "2       HD3DSEMC  Female   56       RG268  Self_Employed           X3   \n",
       "3       BF3NC7KV    Male   34       RG270       Salaried           X1   \n",
       "4       TEASRWXV  Female   30       RG282       Salaried           X1   \n",
       "...          ...     ...  ...         ...            ...          ...   \n",
       "245720  BPAWWXZN    Male   51       RG284  Self_Employed           X3   \n",
       "245721  HFNB7JY8    Male   27       RG268       Salaried           X1   \n",
       "245722  GEHAUCWT  Female   26       RG281       Salaried           X1   \n",
       "245723  GE7V8SAH  Female   28       RG273       Salaried           X1   \n",
       "245724  BOCZSWLJ    Male   29       RG269       Salaried           X1   \n",
       "\n",
       "        Vintage Credit_Product  Avg_Account_Balance Is_Active  Is_Lead  \n",
       "0            43             No              1045696        No        0  \n",
       "1            32             No               581988        No        0  \n",
       "2            26             No              1484315       Yes        0  \n",
       "3            19             No               470454        No        0  \n",
       "4            33             No               886787        No        0  \n",
       "...         ...            ...                  ...       ...      ...  \n",
       "245720      109            NaN              1925586        No        0  \n",
       "245721       15             No               862952       Yes        0  \n",
       "245722       13             No               670659        No        0  \n",
       "245723       31             No               407504        No        0  \n",
       "245724       21             No              1129276        No        0  \n",
       "\n",
       "[245725 rows x 11 columns]"
      ]
     },
     "execution_count": 20,
     "metadata": {},
     "output_type": "execute_result"
    }
   ],
   "source": [
    "data"
   ]
  },
  {
   "cell_type": "code",
   "execution_count": 21,
   "id": "2b6276b3",
   "metadata": {
    "papermill": {
     "duration": 0.209311,
     "end_time": "2022-01-19T04:17:45.542226",
     "exception": false,
     "start_time": "2022-01-19T04:17:45.332915",
     "status": "completed"
    },
    "tags": []
   },
   "outputs": [
    {
     "name": "stdout",
     "output_type": "stream",
     "text": [
      "<class 'pandas.core.frame.DataFrame'>\n",
      "RangeIndex: 245725 entries, 0 to 245724\n",
      "Data columns (total 11 columns):\n",
      " #   Column               Non-Null Count   Dtype \n",
      "---  ------               --------------   ----- \n",
      " 0   ID                   245725 non-null  object\n",
      " 1   Gender               245725 non-null  object\n",
      " 2   Age                  245725 non-null  int64 \n",
      " 3   Region_Code          245725 non-null  object\n",
      " 4   Occupation           245725 non-null  object\n",
      " 5   Channel_Code         245725 non-null  object\n",
      " 6   Vintage              245725 non-null  int64 \n",
      " 7   Credit_Product       216400 non-null  object\n",
      " 8   Avg_Account_Balance  245725 non-null  int64 \n",
      " 9   Is_Active            245725 non-null  object\n",
      " 10  Is_Lead              245725 non-null  int64 \n",
      "dtypes: int64(4), object(7)\n",
      "memory usage: 20.6+ MB\n"
     ]
    }
   ],
   "source": [
    "data.info()"
   ]
  },
  {
   "cell_type": "code",
   "execution_count": 22,
   "id": "5e9da5ee",
   "metadata": {
    "papermill": {
     "duration": 0.083967,
     "end_time": "2022-01-19T04:17:45.645755",
     "exception": false,
     "start_time": "2022-01-19T04:17:45.561788",
     "status": "completed"
    },
    "tags": []
   },
   "outputs": [
    {
     "data": {
      "text/html": [
       "<div>\n",
       "<style scoped>\n",
       "    .dataframe tbody tr th:only-of-type {\n",
       "        vertical-align: middle;\n",
       "    }\n",
       "\n",
       "    .dataframe tbody tr th {\n",
       "        vertical-align: top;\n",
       "    }\n",
       "\n",
       "    .dataframe thead th {\n",
       "        text-align: right;\n",
       "    }\n",
       "</style>\n",
       "<table border=\"1\" class=\"dataframe\">\n",
       "  <thead>\n",
       "    <tr style=\"text-align: right;\">\n",
       "      <th></th>\n",
       "      <th>Age</th>\n",
       "      <th>Vintage</th>\n",
       "      <th>Avg_Account_Balance</th>\n",
       "      <th>Is_Lead</th>\n",
       "    </tr>\n",
       "  </thead>\n",
       "  <tbody>\n",
       "    <tr>\n",
       "      <th>count</th>\n",
       "      <td>245725.000000</td>\n",
       "      <td>245725.000000</td>\n",
       "      <td>2.457250e+05</td>\n",
       "      <td>245725.000000</td>\n",
       "    </tr>\n",
       "    <tr>\n",
       "      <th>mean</th>\n",
       "      <td>43.856307</td>\n",
       "      <td>46.959141</td>\n",
       "      <td>1.128403e+06</td>\n",
       "      <td>0.237208</td>\n",
       "    </tr>\n",
       "    <tr>\n",
       "      <th>std</th>\n",
       "      <td>14.828672</td>\n",
       "      <td>32.353136</td>\n",
       "      <td>8.529364e+05</td>\n",
       "      <td>0.425372</td>\n",
       "    </tr>\n",
       "    <tr>\n",
       "      <th>min</th>\n",
       "      <td>23.000000</td>\n",
       "      <td>7.000000</td>\n",
       "      <td>2.079000e+04</td>\n",
       "      <td>0.000000</td>\n",
       "    </tr>\n",
       "    <tr>\n",
       "      <th>25%</th>\n",
       "      <td>30.000000</td>\n",
       "      <td>20.000000</td>\n",
       "      <td>6.043100e+05</td>\n",
       "      <td>0.000000</td>\n",
       "    </tr>\n",
       "    <tr>\n",
       "      <th>50%</th>\n",
       "      <td>43.000000</td>\n",
       "      <td>32.000000</td>\n",
       "      <td>8.946010e+05</td>\n",
       "      <td>0.000000</td>\n",
       "    </tr>\n",
       "    <tr>\n",
       "      <th>75%</th>\n",
       "      <td>54.000000</td>\n",
       "      <td>73.000000</td>\n",
       "      <td>1.366666e+06</td>\n",
       "      <td>0.000000</td>\n",
       "    </tr>\n",
       "    <tr>\n",
       "      <th>max</th>\n",
       "      <td>85.000000</td>\n",
       "      <td>135.000000</td>\n",
       "      <td>1.035201e+07</td>\n",
       "      <td>1.000000</td>\n",
       "    </tr>\n",
       "  </tbody>\n",
       "</table>\n",
       "</div>"
      ],
      "text/plain": [
       "                 Age        Vintage  Avg_Account_Balance        Is_Lead\n",
       "count  245725.000000  245725.000000         2.457250e+05  245725.000000\n",
       "mean       43.856307      46.959141         1.128403e+06       0.237208\n",
       "std        14.828672      32.353136         8.529364e+05       0.425372\n",
       "min        23.000000       7.000000         2.079000e+04       0.000000\n",
       "25%        30.000000      20.000000         6.043100e+05       0.000000\n",
       "50%        43.000000      32.000000         8.946010e+05       0.000000\n",
       "75%        54.000000      73.000000         1.366666e+06       0.000000\n",
       "max        85.000000     135.000000         1.035201e+07       1.000000"
      ]
     },
     "execution_count": 22,
     "metadata": {},
     "output_type": "execute_result"
    }
   ],
   "source": [
    "data.describe()"
   ]
  },
  {
   "cell_type": "code",
   "execution_count": 23,
   "id": "23d716a6",
   "metadata": {
    "papermill": {
     "duration": 0.201251,
     "end_time": "2022-01-19T04:17:45.867261",
     "exception": false,
     "start_time": "2022-01-19T04:17:45.666010",
     "status": "completed"
    },
    "tags": []
   },
   "outputs": [
    {
     "data": {
      "text/plain": [
       "ID                         0\n",
       "Gender                     0\n",
       "Age                        0\n",
       "Region_Code                0\n",
       "Occupation                 0\n",
       "Channel_Code               0\n",
       "Vintage                    0\n",
       "Credit_Product         29325\n",
       "Avg_Account_Balance        0\n",
       "Is_Active                  0\n",
       "Is_Lead                    0\n",
       "dtype: int64"
      ]
     },
     "execution_count": 23,
     "metadata": {},
     "output_type": "execute_result"
    }
   ],
   "source": [
    "data.isna().sum()"
   ]
  },
  {
   "cell_type": "code",
   "execution_count": 24,
   "id": "ae04e09f",
   "metadata": {
    "papermill": {
     "duration": 0.086183,
     "end_time": "2022-01-19T04:17:45.973848",
     "exception": false,
     "start_time": "2022-01-19T04:17:45.887665",
     "status": "completed"
    },
    "tags": []
   },
   "outputs": [
    {
     "data": {
      "text/plain": [
       "Credit_Product\n",
       "No     144357\n",
       "Yes     72043\n",
       "Name: count, dtype: int64"
      ]
     },
     "execution_count": 24,
     "metadata": {},
     "output_type": "execute_result"
    }
   ],
   "source": [
    "data['Credit_Product'].value_counts()"
   ]
  },
  {
   "cell_type": "code",
   "execution_count": 25,
   "id": "820fc013",
   "metadata": {
    "papermill": {
     "duration": 0.03196,
     "end_time": "2022-01-19T04:17:46.026651",
     "exception": false,
     "start_time": "2022-01-19T04:17:45.994691",
     "status": "completed"
    },
    "tags": []
   },
   "outputs": [
    {
     "data": {
      "text/plain": [
       "ID                     object\n",
       "Gender                 object\n",
       "Age                     int64\n",
       "Region_Code            object\n",
       "Occupation             object\n",
       "Channel_Code           object\n",
       "Vintage                 int64\n",
       "Credit_Product         object\n",
       "Avg_Account_Balance     int64\n",
       "Is_Active              object\n",
       "Is_Lead                 int64\n",
       "dtype: object"
      ]
     },
     "execution_count": 25,
     "metadata": {},
     "output_type": "execute_result"
    }
   ],
   "source": [
    "data.dtypes"
   ]
  },
  {
   "cell_type": "code",
   "execution_count": 26,
   "id": "6e8cc80c",
   "metadata": {
    "papermill": {
     "duration": 0.238307,
     "end_time": "2022-01-19T04:17:46.286071",
     "exception": false,
     "start_time": "2022-01-19T04:17:46.047764",
     "status": "completed"
    },
    "tags": []
   },
   "outputs": [
    {
     "name": "stdout",
     "output_type": "stream",
     "text": [
      "ID ['NNVBBKZB' 'IDD62UNG' 'HD3DSEMC' ... 'GEHAUCWT' 'GE7V8SAH' 'BOCZSWLJ']\n",
      "Gender ['Female' 'Male']\n",
      "Region_Code ['RG268' 'RG277' 'RG270' 'RG282' 'RG261' 'RG265' 'RG283' 'RG254' 'RG269'\n",
      " 'RG257' 'RG279' 'RG280' 'RG252' 'RG284' 'RG259' 'RG281' 'RG258' 'RG266'\n",
      " 'RG260' 'RG274' 'RG256' 'RG275' 'RG273' 'RG267' 'RG272' 'RG251' 'RG262'\n",
      " 'RG264' 'RG278' 'RG276' 'RG263' 'RG250' 'RG255' 'RG253' 'RG271']\n",
      "Occupation ['Other' 'Salaried' 'Self_Employed' 'Entrepreneur']\n",
      "Channel_Code ['X3' 'X1' 'X2' 'X4']\n",
      "Credit_Product ['No' nan 'Yes']\n",
      "Is_Active ['No' 'Yes']\n"
     ]
    }
   ],
   "source": [
    "for col in data.columns:\n",
    "    if data[col].dtypes == 'object':\n",
    "        print(col, data[col].unique())"
   ]
  },
  {
   "cell_type": "code",
   "execution_count": 27,
   "id": "87b3ff21",
   "metadata": {
    "papermill": {
     "duration": 0.389141,
     "end_time": "2022-01-19T04:17:46.697734",
     "exception": false,
     "start_time": "2022-01-19T04:17:46.308593",
     "status": "completed"
    },
    "tags": []
   },
   "outputs": [
    {
     "ename": "ValueError",
     "evalue": "could not convert string to float: 'NNVBBKZB'",
     "output_type": "error",
     "traceback": [
      "\u001b[0;31m---------------------------------------------------------------------------\u001b[0m",
      "\u001b[0;31mValueError\u001b[0m                                Traceback (most recent call last)",
      "Cell \u001b[0;32mIn[27], line 2\u001b[0m\n\u001b[1;32m      1\u001b[0m \u001b[38;5;28;01mimport\u001b[39;00m \u001b[38;5;21;01mseaborn\u001b[39;00m \u001b[38;5;28;01mas\u001b[39;00m \u001b[38;5;21;01msns\u001b[39;00m\n\u001b[0;32m----> 2\u001b[0m sns\u001b[38;5;241m.\u001b[39mheatmap(\u001b[43mdata\u001b[49m\u001b[38;5;241;43m.\u001b[39;49m\u001b[43mcorr\u001b[49m\u001b[43m(\u001b[49m\u001b[43m)\u001b[49m,annot\u001b[38;5;241m=\u001b[39m\u001b[38;5;28;01mTrue\u001b[39;00m)\n",
      "File \u001b[0;32m/usr/local/lib/python3.10/site-packages/pandas/core/frame.py:10704\u001b[0m, in \u001b[0;36mDataFrame.corr\u001b[0;34m(self, method, min_periods, numeric_only)\u001b[0m\n\u001b[1;32m  10702\u001b[0m cols \u001b[38;5;241m=\u001b[39m data\u001b[38;5;241m.\u001b[39mcolumns\n\u001b[1;32m  10703\u001b[0m idx \u001b[38;5;241m=\u001b[39m cols\u001b[38;5;241m.\u001b[39mcopy()\n\u001b[0;32m> 10704\u001b[0m mat \u001b[38;5;241m=\u001b[39m \u001b[43mdata\u001b[49m\u001b[38;5;241;43m.\u001b[39;49m\u001b[43mto_numpy\u001b[49m\u001b[43m(\u001b[49m\u001b[43mdtype\u001b[49m\u001b[38;5;241;43m=\u001b[39;49m\u001b[38;5;28;43mfloat\u001b[39;49m\u001b[43m,\u001b[49m\u001b[43m \u001b[49m\u001b[43mna_value\u001b[49m\u001b[38;5;241;43m=\u001b[39;49m\u001b[43mnp\u001b[49m\u001b[38;5;241;43m.\u001b[39;49m\u001b[43mnan\u001b[49m\u001b[43m,\u001b[49m\u001b[43m \u001b[49m\u001b[43mcopy\u001b[49m\u001b[38;5;241;43m=\u001b[39;49m\u001b[38;5;28;43;01mFalse\u001b[39;49;00m\u001b[43m)\u001b[49m\n\u001b[1;32m  10706\u001b[0m \u001b[38;5;28;01mif\u001b[39;00m method \u001b[38;5;241m==\u001b[39m \u001b[38;5;124m\"\u001b[39m\u001b[38;5;124mpearson\u001b[39m\u001b[38;5;124m\"\u001b[39m:\n\u001b[1;32m  10707\u001b[0m     correl \u001b[38;5;241m=\u001b[39m libalgos\u001b[38;5;241m.\u001b[39mnancorr(mat, minp\u001b[38;5;241m=\u001b[39mmin_periods)\n",
      "File \u001b[0;32m/usr/local/lib/python3.10/site-packages/pandas/core/frame.py:1889\u001b[0m, in \u001b[0;36mDataFrame.to_numpy\u001b[0;34m(self, dtype, copy, na_value)\u001b[0m\n\u001b[1;32m   1887\u001b[0m \u001b[38;5;28;01mif\u001b[39;00m dtype \u001b[38;5;129;01mis\u001b[39;00m \u001b[38;5;129;01mnot\u001b[39;00m \u001b[38;5;28;01mNone\u001b[39;00m:\n\u001b[1;32m   1888\u001b[0m     dtype \u001b[38;5;241m=\u001b[39m np\u001b[38;5;241m.\u001b[39mdtype(dtype)\n\u001b[0;32m-> 1889\u001b[0m result \u001b[38;5;241m=\u001b[39m \u001b[38;5;28;43mself\u001b[39;49m\u001b[38;5;241;43m.\u001b[39;49m\u001b[43m_mgr\u001b[49m\u001b[38;5;241;43m.\u001b[39;49m\u001b[43mas_array\u001b[49m\u001b[43m(\u001b[49m\u001b[43mdtype\u001b[49m\u001b[38;5;241;43m=\u001b[39;49m\u001b[43mdtype\u001b[49m\u001b[43m,\u001b[49m\u001b[43m \u001b[49m\u001b[43mcopy\u001b[49m\u001b[38;5;241;43m=\u001b[39;49m\u001b[43mcopy\u001b[49m\u001b[43m,\u001b[49m\u001b[43m \u001b[49m\u001b[43mna_value\u001b[49m\u001b[38;5;241;43m=\u001b[39;49m\u001b[43mna_value\u001b[49m\u001b[43m)\u001b[49m\n\u001b[1;32m   1890\u001b[0m \u001b[38;5;28;01mif\u001b[39;00m result\u001b[38;5;241m.\u001b[39mdtype \u001b[38;5;129;01mis\u001b[39;00m \u001b[38;5;129;01mnot\u001b[39;00m dtype:\n\u001b[1;32m   1891\u001b[0m     result \u001b[38;5;241m=\u001b[39m np\u001b[38;5;241m.\u001b[39marray(result, dtype\u001b[38;5;241m=\u001b[39mdtype, copy\u001b[38;5;241m=\u001b[39m\u001b[38;5;28;01mFalse\u001b[39;00m)\n",
      "File \u001b[0;32m/usr/local/lib/python3.10/site-packages/pandas/core/internals/managers.py:1656\u001b[0m, in \u001b[0;36mBlockManager.as_array\u001b[0;34m(self, dtype, copy, na_value)\u001b[0m\n\u001b[1;32m   1654\u001b[0m         arr\u001b[38;5;241m.\u001b[39mflags\u001b[38;5;241m.\u001b[39mwriteable \u001b[38;5;241m=\u001b[39m \u001b[38;5;28;01mFalse\u001b[39;00m\n\u001b[1;32m   1655\u001b[0m \u001b[38;5;28;01melse\u001b[39;00m:\n\u001b[0;32m-> 1656\u001b[0m     arr \u001b[38;5;241m=\u001b[39m \u001b[38;5;28;43mself\u001b[39;49m\u001b[38;5;241;43m.\u001b[39;49m\u001b[43m_interleave\u001b[49m\u001b[43m(\u001b[49m\u001b[43mdtype\u001b[49m\u001b[38;5;241;43m=\u001b[39;49m\u001b[43mdtype\u001b[49m\u001b[43m,\u001b[49m\u001b[43m \u001b[49m\u001b[43mna_value\u001b[49m\u001b[38;5;241;43m=\u001b[39;49m\u001b[43mna_value\u001b[49m\u001b[43m)\u001b[49m\n\u001b[1;32m   1657\u001b[0m     \u001b[38;5;66;03m# The underlying data was copied within _interleave, so no need\u001b[39;00m\n\u001b[1;32m   1658\u001b[0m     \u001b[38;5;66;03m# to further copy if copy=True or setting na_value\u001b[39;00m\n\u001b[1;32m   1660\u001b[0m \u001b[38;5;28;01mif\u001b[39;00m na_value \u001b[38;5;129;01mis\u001b[39;00m lib\u001b[38;5;241m.\u001b[39mno_default:\n",
      "File \u001b[0;32m/usr/local/lib/python3.10/site-packages/pandas/core/internals/managers.py:1715\u001b[0m, in \u001b[0;36mBlockManager._interleave\u001b[0;34m(self, dtype, na_value)\u001b[0m\n\u001b[1;32m   1713\u001b[0m     \u001b[38;5;28;01melse\u001b[39;00m:\n\u001b[1;32m   1714\u001b[0m         arr \u001b[38;5;241m=\u001b[39m blk\u001b[38;5;241m.\u001b[39mget_values(dtype)\n\u001b[0;32m-> 1715\u001b[0m     \u001b[43mresult\u001b[49m\u001b[43m[\u001b[49m\u001b[43mrl\u001b[49m\u001b[38;5;241;43m.\u001b[39;49m\u001b[43mindexer\u001b[49m\u001b[43m]\u001b[49m \u001b[38;5;241m=\u001b[39m arr\n\u001b[1;32m   1716\u001b[0m     itemmask[rl\u001b[38;5;241m.\u001b[39mindexer] \u001b[38;5;241m=\u001b[39m \u001b[38;5;241m1\u001b[39m\n\u001b[1;32m   1718\u001b[0m \u001b[38;5;28;01mif\u001b[39;00m \u001b[38;5;129;01mnot\u001b[39;00m itemmask\u001b[38;5;241m.\u001b[39mall():\n",
      "\u001b[0;31mValueError\u001b[0m: could not convert string to float: 'NNVBBKZB'"
     ]
    }
   ],
   "source": [
    "import seaborn as sns\n",
    "sns.heatmap(data.corr(),annot=True)"
   ]
  },
  {
   "cell_type": "code",
   "execution_count": 34,
   "id": "fba40eaf",
   "metadata": {
    "papermill": {
     "duration": 0.047637,
     "end_time": "2022-01-19T04:17:46.769216",
     "exception": false,
     "start_time": "2022-01-19T04:17:46.721579",
     "status": "completed"
    },
    "tags": []
   },
   "outputs": [
    {
     "ename": "KeyError",
     "evalue": "\"['ID', 'Region_Code'] not found in axis\"",
     "output_type": "error",
     "traceback": [
      "\u001b[0;31m---------------------------------------------------------------------------\u001b[0m",
      "\u001b[0;31mKeyError\u001b[0m                                  Traceback (most recent call last)",
      "Cell \u001b[0;32mIn[34], line 1\u001b[0m\n\u001b[0;32m----> 1\u001b[0m data \u001b[38;5;241m=\u001b[39m \u001b[43mdata\u001b[49m\u001b[38;5;241;43m.\u001b[39;49m\u001b[43mdrop\u001b[49m\u001b[43m(\u001b[49m\u001b[43m[\u001b[49m\u001b[38;5;124;43m'\u001b[39;49m\u001b[38;5;124;43mID\u001b[39;49m\u001b[38;5;124;43m'\u001b[39;49m\u001b[43m,\u001b[49m\u001b[38;5;124;43m'\u001b[39;49m\u001b[38;5;124;43mRegion_Code\u001b[39;49m\u001b[38;5;124;43m'\u001b[39;49m\u001b[43m]\u001b[49m\u001b[43m,\u001b[49m\u001b[43maxis\u001b[49m\u001b[38;5;241;43m=\u001b[39;49m\u001b[38;5;241;43m1\u001b[39;49m\u001b[43m)\u001b[49m\n",
      "File \u001b[0;32m/usr/local/lib/python3.10/site-packages/pandas/core/frame.py:5344\u001b[0m, in \u001b[0;36mDataFrame.drop\u001b[0;34m(self, labels, axis, index, columns, level, inplace, errors)\u001b[0m\n\u001b[1;32m   5196\u001b[0m \u001b[38;5;28;01mdef\u001b[39;00m \u001b[38;5;21mdrop\u001b[39m(\n\u001b[1;32m   5197\u001b[0m     \u001b[38;5;28mself\u001b[39m,\n\u001b[1;32m   5198\u001b[0m     labels: IndexLabel \u001b[38;5;241m|\u001b[39m \u001b[38;5;28;01mNone\u001b[39;00m \u001b[38;5;241m=\u001b[39m \u001b[38;5;28;01mNone\u001b[39;00m,\n\u001b[0;32m   (...)\u001b[0m\n\u001b[1;32m   5205\u001b[0m     errors: IgnoreRaise \u001b[38;5;241m=\u001b[39m \u001b[38;5;124m\"\u001b[39m\u001b[38;5;124mraise\u001b[39m\u001b[38;5;124m\"\u001b[39m,\n\u001b[1;32m   5206\u001b[0m ) \u001b[38;5;241m-\u001b[39m\u001b[38;5;241m>\u001b[39m DataFrame \u001b[38;5;241m|\u001b[39m \u001b[38;5;28;01mNone\u001b[39;00m:\n\u001b[1;32m   5207\u001b[0m \u001b[38;5;250m    \u001b[39m\u001b[38;5;124;03m\"\"\"\u001b[39;00m\n\u001b[1;32m   5208\u001b[0m \u001b[38;5;124;03m    Drop specified labels from rows or columns.\u001b[39;00m\n\u001b[1;32m   5209\u001b[0m \n\u001b[0;32m   (...)\u001b[0m\n\u001b[1;32m   5342\u001b[0m \u001b[38;5;124;03m            weight  1.0     0.8\u001b[39;00m\n\u001b[1;32m   5343\u001b[0m \u001b[38;5;124;03m    \"\"\"\u001b[39;00m\n\u001b[0;32m-> 5344\u001b[0m     \u001b[38;5;28;01mreturn\u001b[39;00m \u001b[38;5;28;43msuper\u001b[39;49m\u001b[43m(\u001b[49m\u001b[43m)\u001b[49m\u001b[38;5;241;43m.\u001b[39;49m\u001b[43mdrop\u001b[49m\u001b[43m(\u001b[49m\n\u001b[1;32m   5345\u001b[0m \u001b[43m        \u001b[49m\u001b[43mlabels\u001b[49m\u001b[38;5;241;43m=\u001b[39;49m\u001b[43mlabels\u001b[49m\u001b[43m,\u001b[49m\n\u001b[1;32m   5346\u001b[0m \u001b[43m        \u001b[49m\u001b[43maxis\u001b[49m\u001b[38;5;241;43m=\u001b[39;49m\u001b[43maxis\u001b[49m\u001b[43m,\u001b[49m\n\u001b[1;32m   5347\u001b[0m \u001b[43m        \u001b[49m\u001b[43mindex\u001b[49m\u001b[38;5;241;43m=\u001b[39;49m\u001b[43mindex\u001b[49m\u001b[43m,\u001b[49m\n\u001b[1;32m   5348\u001b[0m \u001b[43m        \u001b[49m\u001b[43mcolumns\u001b[49m\u001b[38;5;241;43m=\u001b[39;49m\u001b[43mcolumns\u001b[49m\u001b[43m,\u001b[49m\n\u001b[1;32m   5349\u001b[0m \u001b[43m        \u001b[49m\u001b[43mlevel\u001b[49m\u001b[38;5;241;43m=\u001b[39;49m\u001b[43mlevel\u001b[49m\u001b[43m,\u001b[49m\n\u001b[1;32m   5350\u001b[0m \u001b[43m        \u001b[49m\u001b[43minplace\u001b[49m\u001b[38;5;241;43m=\u001b[39;49m\u001b[43minplace\u001b[49m\u001b[43m,\u001b[49m\n\u001b[1;32m   5351\u001b[0m \u001b[43m        \u001b[49m\u001b[43merrors\u001b[49m\u001b[38;5;241;43m=\u001b[39;49m\u001b[43merrors\u001b[49m\u001b[43m,\u001b[49m\n\u001b[1;32m   5352\u001b[0m \u001b[43m    \u001b[49m\u001b[43m)\u001b[49m\n",
      "File \u001b[0;32m/usr/local/lib/python3.10/site-packages/pandas/core/generic.py:4711\u001b[0m, in \u001b[0;36mNDFrame.drop\u001b[0;34m(self, labels, axis, index, columns, level, inplace, errors)\u001b[0m\n\u001b[1;32m   4709\u001b[0m \u001b[38;5;28;01mfor\u001b[39;00m axis, labels \u001b[38;5;129;01min\u001b[39;00m axes\u001b[38;5;241m.\u001b[39mitems():\n\u001b[1;32m   4710\u001b[0m     \u001b[38;5;28;01mif\u001b[39;00m labels \u001b[38;5;129;01mis\u001b[39;00m \u001b[38;5;129;01mnot\u001b[39;00m \u001b[38;5;28;01mNone\u001b[39;00m:\n\u001b[0;32m-> 4711\u001b[0m         obj \u001b[38;5;241m=\u001b[39m \u001b[43mobj\u001b[49m\u001b[38;5;241;43m.\u001b[39;49m\u001b[43m_drop_axis\u001b[49m\u001b[43m(\u001b[49m\u001b[43mlabels\u001b[49m\u001b[43m,\u001b[49m\u001b[43m \u001b[49m\u001b[43maxis\u001b[49m\u001b[43m,\u001b[49m\u001b[43m \u001b[49m\u001b[43mlevel\u001b[49m\u001b[38;5;241;43m=\u001b[39;49m\u001b[43mlevel\u001b[49m\u001b[43m,\u001b[49m\u001b[43m \u001b[49m\u001b[43merrors\u001b[49m\u001b[38;5;241;43m=\u001b[39;49m\u001b[43merrors\u001b[49m\u001b[43m)\u001b[49m\n\u001b[1;32m   4713\u001b[0m \u001b[38;5;28;01mif\u001b[39;00m inplace:\n\u001b[1;32m   4714\u001b[0m     \u001b[38;5;28mself\u001b[39m\u001b[38;5;241m.\u001b[39m_update_inplace(obj)\n",
      "File \u001b[0;32m/usr/local/lib/python3.10/site-packages/pandas/core/generic.py:4753\u001b[0m, in \u001b[0;36mNDFrame._drop_axis\u001b[0;34m(self, labels, axis, level, errors, only_slice)\u001b[0m\n\u001b[1;32m   4751\u001b[0m         new_axis \u001b[38;5;241m=\u001b[39m axis\u001b[38;5;241m.\u001b[39mdrop(labels, level\u001b[38;5;241m=\u001b[39mlevel, errors\u001b[38;5;241m=\u001b[39merrors)\n\u001b[1;32m   4752\u001b[0m     \u001b[38;5;28;01melse\u001b[39;00m:\n\u001b[0;32m-> 4753\u001b[0m         new_axis \u001b[38;5;241m=\u001b[39m \u001b[43maxis\u001b[49m\u001b[38;5;241;43m.\u001b[39;49m\u001b[43mdrop\u001b[49m\u001b[43m(\u001b[49m\u001b[43mlabels\u001b[49m\u001b[43m,\u001b[49m\u001b[43m \u001b[49m\u001b[43merrors\u001b[49m\u001b[38;5;241;43m=\u001b[39;49m\u001b[43merrors\u001b[49m\u001b[43m)\u001b[49m\n\u001b[1;32m   4754\u001b[0m     indexer \u001b[38;5;241m=\u001b[39m axis\u001b[38;5;241m.\u001b[39mget_indexer(new_axis)\n\u001b[1;32m   4756\u001b[0m \u001b[38;5;66;03m# Case for non-unique axis\u001b[39;00m\n\u001b[1;32m   4757\u001b[0m \u001b[38;5;28;01melse\u001b[39;00m:\n",
      "File \u001b[0;32m/usr/local/lib/python3.10/site-packages/pandas/core/indexes/base.py:7000\u001b[0m, in \u001b[0;36mIndex.drop\u001b[0;34m(self, labels, errors)\u001b[0m\n\u001b[1;32m   6998\u001b[0m \u001b[38;5;28;01mif\u001b[39;00m mask\u001b[38;5;241m.\u001b[39many():\n\u001b[1;32m   6999\u001b[0m     \u001b[38;5;28;01mif\u001b[39;00m errors \u001b[38;5;241m!=\u001b[39m \u001b[38;5;124m\"\u001b[39m\u001b[38;5;124mignore\u001b[39m\u001b[38;5;124m\"\u001b[39m:\n\u001b[0;32m-> 7000\u001b[0m         \u001b[38;5;28;01mraise\u001b[39;00m \u001b[38;5;167;01mKeyError\u001b[39;00m(\u001b[38;5;124mf\u001b[39m\u001b[38;5;124m\"\u001b[39m\u001b[38;5;132;01m{\u001b[39;00mlabels[mask]\u001b[38;5;241m.\u001b[39mtolist()\u001b[38;5;132;01m}\u001b[39;00m\u001b[38;5;124m not found in axis\u001b[39m\u001b[38;5;124m\"\u001b[39m)\n\u001b[1;32m   7001\u001b[0m     indexer \u001b[38;5;241m=\u001b[39m indexer[\u001b[38;5;241m~\u001b[39mmask]\n\u001b[1;32m   7002\u001b[0m \u001b[38;5;28;01mreturn\u001b[39;00m \u001b[38;5;28mself\u001b[39m\u001b[38;5;241m.\u001b[39mdelete(indexer)\n",
      "\u001b[0;31mKeyError\u001b[0m: \"['ID', 'Region_Code'] not found in axis\""
     ]
    }
   ],
   "source": [
    "data = data.drop(['ID','Region_Code'],axis=1)"
   ]
  },
  {
   "cell_type": "code",
   "execution_count": 35,
   "id": "26a6ccfc",
   "metadata": {
    "papermill": {
     "duration": 0.035704,
     "end_time": "2022-01-19T04:17:46.828143",
     "exception": false,
     "start_time": "2022-01-19T04:17:46.792439",
     "status": "completed"
    },
    "tags": []
   },
   "outputs": [],
   "source": [
    "def preprocess_inputs(df):\n",
    "    df = df.copy()\n",
    "    \n",
    "    df['Gender'] = df['Gender'].replace({'Female' : 1,\n",
    "                                         'Male'   : 0})\n",
    "    df['Credit_Product'] = df['Credit_Product'].replace({ np.nan : 'Not Sure'})\n",
    "    df['Credit_Product'] = df['Credit_Product'].replace({ 'No' : 0,\n",
    "                                                         'Not Sure':1,\n",
    "                                                         'Yes' : 2})\n",
    "    df['Is_Active'] = df['Is_Active'].replace({ 'No'  : 0,\n",
    "                                                'Yes' : 1})\n",
    "    columns = ['Occupation','Channel_Code']\n",
    "    for column in columns:\n",
    "        dummies = pd.get_dummies(df[column])\n",
    "        df = pd.concat([df, dummies],axis=1)\n",
    "        df = df.drop(column, axis=1)\n",
    "        \n",
    "    y = df['Is_Lead']  \n",
    "    X = df.drop('Is_Lead',axis=1)    \n",
    "    \n",
    "    X_train, X_test, y_train, y_test = train_test_split(X, y, train_size=0.7, shuffle=True, random_state=42)\n",
    "    \n",
    "    scaler = StandardScaler()\n",
    "    scaler.fit(X_train)\n",
    "    \n",
    "    X_train = pd.DataFrame(scaler.transform(X_train), columns = X_train.columns, index = X_train.index)\n",
    "    X_test = pd.DataFrame(scaler.transform(X_test), columns = X_test.columns, index = X_test.index)\n",
    "    \n",
    "    return X_train, X_test, y_train, y_test"
   ]
  },
  {
   "cell_type": "code",
   "execution_count": 36,
   "id": "8d5f88df",
   "metadata": {
    "papermill": {
     "duration": 0.828917,
     "end_time": "2022-01-19T04:17:47.680339",
     "exception": false,
     "start_time": "2022-01-19T04:17:46.851422",
     "status": "completed"
    },
    "tags": []
   },
   "outputs": [
    {
     "data": {
      "text/html": [
       "<div>\n",
       "<style scoped>\n",
       "    .dataframe tbody tr th:only-of-type {\n",
       "        vertical-align: middle;\n",
       "    }\n",
       "\n",
       "    .dataframe tbody tr th {\n",
       "        vertical-align: top;\n",
       "    }\n",
       "\n",
       "    .dataframe thead th {\n",
       "        text-align: right;\n",
       "    }\n",
       "</style>\n",
       "<table border=\"1\" class=\"dataframe\">\n",
       "  <thead>\n",
       "    <tr style=\"text-align: right;\">\n",
       "      <th></th>\n",
       "      <th>Gender</th>\n",
       "      <th>Age</th>\n",
       "      <th>Vintage</th>\n",
       "      <th>Credit_Product</th>\n",
       "      <th>Avg_Account_Balance</th>\n",
       "      <th>Is_Active</th>\n",
       "      <th>Entrepreneur</th>\n",
       "      <th>Other</th>\n",
       "      <th>Salaried</th>\n",
       "      <th>Self_Employed</th>\n",
       "      <th>X1</th>\n",
       "      <th>X2</th>\n",
       "      <th>X3</th>\n",
       "      <th>X4</th>\n",
       "    </tr>\n",
       "  </thead>\n",
       "  <tbody>\n",
       "    <tr>\n",
       "      <th>138403</th>\n",
       "      <td>1.094636</td>\n",
       "      <td>-0.933883</td>\n",
       "      <td>-0.832754</td>\n",
       "      <td>-0.793351</td>\n",
       "      <td>0.697878</td>\n",
       "      <td>-0.796206</td>\n",
       "      <td>-0.105404</td>\n",
       "      <td>-0.631862</td>\n",
       "      <td>1.552111</td>\n",
       "      <td>-0.834208</td>\n",
       "      <td>-0.854686</td>\n",
       "      <td>-0.616215</td>\n",
       "      <td>1.603567</td>\n",
       "      <td>-0.152254</td>\n",
       "    </tr>\n",
       "    <tr>\n",
       "      <th>117015</th>\n",
       "      <td>1.094636</td>\n",
       "      <td>0.749235</td>\n",
       "      <td>-0.307410</td>\n",
       "      <td>-0.793351</td>\n",
       "      <td>-0.963535</td>\n",
       "      <td>-0.796206</td>\n",
       "      <td>-0.105404</td>\n",
       "      <td>-0.631862</td>\n",
       "      <td>-0.644284</td>\n",
       "      <td>1.198741</td>\n",
       "      <td>1.170021</td>\n",
       "      <td>-0.616215</td>\n",
       "      <td>-0.623610</td>\n",
       "      <td>-0.152254</td>\n",
       "    </tr>\n",
       "    <tr>\n",
       "      <th>322</th>\n",
       "      <td>1.094636</td>\n",
       "      <td>-0.731909</td>\n",
       "      <td>-1.049072</td>\n",
       "      <td>-0.793351</td>\n",
       "      <td>-0.282440</td>\n",
       "      <td>-0.796206</td>\n",
       "      <td>-0.105404</td>\n",
       "      <td>-0.631862</td>\n",
       "      <td>1.552111</td>\n",
       "      <td>-0.834208</td>\n",
       "      <td>1.170021</td>\n",
       "      <td>-0.616215</td>\n",
       "      <td>-0.623610</td>\n",
       "      <td>-0.152254</td>\n",
       "    </tr>\n",
       "    <tr>\n",
       "      <th>64910</th>\n",
       "      <td>1.094636</td>\n",
       "      <td>0.277962</td>\n",
       "      <td>1.392232</td>\n",
       "      <td>1.449411</td>\n",
       "      <td>0.115046</td>\n",
       "      <td>1.255956</td>\n",
       "      <td>-0.105404</td>\n",
       "      <td>-0.631862</td>\n",
       "      <td>-0.644284</td>\n",
       "      <td>1.198741</td>\n",
       "      <td>-0.854686</td>\n",
       "      <td>-0.616215</td>\n",
       "      <td>1.603567</td>\n",
       "      <td>-0.152254</td>\n",
       "    </tr>\n",
       "    <tr>\n",
       "      <th>39919</th>\n",
       "      <td>1.094636</td>\n",
       "      <td>-0.866558</td>\n",
       "      <td>-0.863657</td>\n",
       "      <td>-0.793351</td>\n",
       "      <td>-0.479967</td>\n",
       "      <td>-0.796206</td>\n",
       "      <td>-0.105404</td>\n",
       "      <td>1.582623</td>\n",
       "      <td>-0.644284</td>\n",
       "      <td>-0.834208</td>\n",
       "      <td>1.170021</td>\n",
       "      <td>-0.616215</td>\n",
       "      <td>-0.623610</td>\n",
       "      <td>-0.152254</td>\n",
       "    </tr>\n",
       "    <tr>\n",
       "      <th>...</th>\n",
       "      <td>...</td>\n",
       "      <td>...</td>\n",
       "      <td>...</td>\n",
       "      <td>...</td>\n",
       "      <td>...</td>\n",
       "      <td>...</td>\n",
       "      <td>...</td>\n",
       "      <td>...</td>\n",
       "      <td>...</td>\n",
       "      <td>...</td>\n",
       "      <td>...</td>\n",
       "      <td>...</td>\n",
       "      <td>...</td>\n",
       "      <td>...</td>\n",
       "    </tr>\n",
       "    <tr>\n",
       "      <th>119879</th>\n",
       "      <td>-0.913545</td>\n",
       "      <td>-0.058661</td>\n",
       "      <td>-0.863657</td>\n",
       "      <td>1.449411</td>\n",
       "      <td>1.389735</td>\n",
       "      <td>-0.796206</td>\n",
       "      <td>-0.105404</td>\n",
       "      <td>-0.631862</td>\n",
       "      <td>-0.644284</td>\n",
       "      <td>1.198741</td>\n",
       "      <td>-0.854686</td>\n",
       "      <td>1.622811</td>\n",
       "      <td>-0.623610</td>\n",
       "      <td>-0.152254</td>\n",
       "    </tr>\n",
       "    <tr>\n",
       "      <th>103694</th>\n",
       "      <td>-0.913545</td>\n",
       "      <td>-0.327960</td>\n",
       "      <td>-1.049072</td>\n",
       "      <td>-0.793351</td>\n",
       "      <td>-0.319747</td>\n",
       "      <td>-0.796206</td>\n",
       "      <td>-0.105404</td>\n",
       "      <td>-0.631862</td>\n",
       "      <td>-0.644284</td>\n",
       "      <td>1.198741</td>\n",
       "      <td>-0.854686</td>\n",
       "      <td>-0.616215</td>\n",
       "      <td>-0.623610</td>\n",
       "      <td>6.567976</td>\n",
       "    </tr>\n",
       "    <tr>\n",
       "      <th>131932</th>\n",
       "      <td>-0.913545</td>\n",
       "      <td>0.951210</td>\n",
       "      <td>0.496057</td>\n",
       "      <td>1.449411</td>\n",
       "      <td>-0.070329</td>\n",
       "      <td>1.255956</td>\n",
       "      <td>-0.105404</td>\n",
       "      <td>-0.631862</td>\n",
       "      <td>-0.644284</td>\n",
       "      <td>1.198741</td>\n",
       "      <td>-0.854686</td>\n",
       "      <td>1.622811</td>\n",
       "      <td>-0.623610</td>\n",
       "      <td>-0.152254</td>\n",
       "    </tr>\n",
       "    <tr>\n",
       "      <th>146867</th>\n",
       "      <td>-0.913545</td>\n",
       "      <td>-1.001208</td>\n",
       "      <td>-0.461923</td>\n",
       "      <td>-0.793351</td>\n",
       "      <td>0.649166</td>\n",
       "      <td>-0.796206</td>\n",
       "      <td>-0.105404</td>\n",
       "      <td>1.582623</td>\n",
       "      <td>-0.644284</td>\n",
       "      <td>-0.834208</td>\n",
       "      <td>1.170021</td>\n",
       "      <td>-0.616215</td>\n",
       "      <td>-0.623610</td>\n",
       "      <td>-0.152254</td>\n",
       "    </tr>\n",
       "    <tr>\n",
       "      <th>121958</th>\n",
       "      <td>-0.913545</td>\n",
       "      <td>2.432354</td>\n",
       "      <td>0.619668</td>\n",
       "      <td>1.449411</td>\n",
       "      <td>-0.067566</td>\n",
       "      <td>-0.796206</td>\n",
       "      <td>-0.105404</td>\n",
       "      <td>1.582623</td>\n",
       "      <td>-0.644284</td>\n",
       "      <td>-0.834208</td>\n",
       "      <td>-0.854686</td>\n",
       "      <td>1.622811</td>\n",
       "      <td>-0.623610</td>\n",
       "      <td>-0.152254</td>\n",
       "    </tr>\n",
       "  </tbody>\n",
       "</table>\n",
       "<p>172007 rows × 14 columns</p>\n",
       "</div>"
      ],
      "text/plain": [
       "          Gender       Age   Vintage  Credit_Product  Avg_Account_Balance  \\\n",
       "138403  1.094636 -0.933883 -0.832754       -0.793351             0.697878   \n",
       "117015  1.094636  0.749235 -0.307410       -0.793351            -0.963535   \n",
       "322     1.094636 -0.731909 -1.049072       -0.793351            -0.282440   \n",
       "64910   1.094636  0.277962  1.392232        1.449411             0.115046   \n",
       "39919   1.094636 -0.866558 -0.863657       -0.793351            -0.479967   \n",
       "...          ...       ...       ...             ...                  ...   \n",
       "119879 -0.913545 -0.058661 -0.863657        1.449411             1.389735   \n",
       "103694 -0.913545 -0.327960 -1.049072       -0.793351            -0.319747   \n",
       "131932 -0.913545  0.951210  0.496057        1.449411            -0.070329   \n",
       "146867 -0.913545 -1.001208 -0.461923       -0.793351             0.649166   \n",
       "121958 -0.913545  2.432354  0.619668        1.449411            -0.067566   \n",
       "\n",
       "        Is_Active  Entrepreneur     Other  Salaried  Self_Employed        X1  \\\n",
       "138403  -0.796206     -0.105404 -0.631862  1.552111      -0.834208 -0.854686   \n",
       "117015  -0.796206     -0.105404 -0.631862 -0.644284       1.198741  1.170021   \n",
       "322     -0.796206     -0.105404 -0.631862  1.552111      -0.834208  1.170021   \n",
       "64910    1.255956     -0.105404 -0.631862 -0.644284       1.198741 -0.854686   \n",
       "39919   -0.796206     -0.105404  1.582623 -0.644284      -0.834208  1.170021   \n",
       "...           ...           ...       ...       ...            ...       ...   \n",
       "119879  -0.796206     -0.105404 -0.631862 -0.644284       1.198741 -0.854686   \n",
       "103694  -0.796206     -0.105404 -0.631862 -0.644284       1.198741 -0.854686   \n",
       "131932   1.255956     -0.105404 -0.631862 -0.644284       1.198741 -0.854686   \n",
       "146867  -0.796206     -0.105404  1.582623 -0.644284      -0.834208  1.170021   \n",
       "121958  -0.796206     -0.105404  1.582623 -0.644284      -0.834208 -0.854686   \n",
       "\n",
       "              X2        X3        X4  \n",
       "138403 -0.616215  1.603567 -0.152254  \n",
       "117015 -0.616215 -0.623610 -0.152254  \n",
       "322    -0.616215 -0.623610 -0.152254  \n",
       "64910  -0.616215  1.603567 -0.152254  \n",
       "39919  -0.616215 -0.623610 -0.152254  \n",
       "...          ...       ...       ...  \n",
       "119879  1.622811 -0.623610 -0.152254  \n",
       "103694 -0.616215 -0.623610  6.567976  \n",
       "131932  1.622811 -0.623610 -0.152254  \n",
       "146867 -0.616215 -0.623610 -0.152254  \n",
       "121958  1.622811 -0.623610 -0.152254  \n",
       "\n",
       "[172007 rows x 14 columns]"
      ]
     },
     "execution_count": 36,
     "metadata": {},
     "output_type": "execute_result"
    }
   ],
   "source": [
    "X_train, X_test, y_train, y_test = preprocess_inputs(data)\n",
    "\n",
    "\n",
    "X_train"
   ]
  },
  {
   "cell_type": "code",
   "execution_count": 37,
   "id": "9d4f086c",
   "metadata": {
    "papermill": {
     "duration": 0.037152,
     "end_time": "2022-01-19T04:17:47.740953",
     "exception": false,
     "start_time": "2022-01-19T04:17:47.703801",
     "status": "completed"
    },
    "tags": []
   },
   "outputs": [
    {
     "data": {
      "text/plain": [
       "Is_Lead\n",
       "0    187437\n",
       "1     58288\n",
       "Name: count, dtype: int64"
      ]
     },
     "execution_count": 37,
     "metadata": {},
     "output_type": "execute_result"
    }
   ],
   "source": [
    "data['Is_Lead'].value_counts()"
   ]
  },
  {
   "cell_type": "code",
   "execution_count": 38,
   "id": "579a9ee8",
   "metadata": {
    "papermill": {
     "duration": 9.427138,
     "end_time": "2022-01-19T04:17:57.193272",
     "exception": false,
     "start_time": "2022-01-19T04:17:47.766134",
     "status": "completed"
    },
    "tags": []
   },
   "outputs": [],
   "source": [
    "smote = SMOTE(random_state=23)\n",
    "X_train_smote, y_train_smote = smote.fit_resample(X_train, y_train)"
   ]
  },
  {
   "cell_type": "code",
   "execution_count": 39,
   "id": "b2fec8e9",
   "metadata": {
    "papermill": {
     "duration": 269.783613,
     "end_time": "2022-01-19T04:22:27.000966",
     "exception": false,
     "start_time": "2022-01-19T04:17:57.217353",
     "status": "completed"
    },
    "tags": []
   },
   "outputs": [
    {
     "name": "stdout",
     "output_type": "stream",
     "text": [
      "  Logistic Regression trained\n",
      "           Linear SVM trained\n",
      "        XGBClassifier trained\n",
      "    Gradient Boosting trained\n",
      "        Decision Tree trained\n",
      "        Random Forest trained\n",
      " KNeighborsClassifier trained\n",
      "   Bagging Classifier trained\n"
     ]
    }
   ],
   "source": [
    "models = {\n",
    "    '  Logistic Regression': LogisticRegression(),\n",
    "    '           Linear SVM': LinearSVC(),\n",
    "    '        XGBClassifier': xgb.XGBClassifier(),\n",
    "    '    Gradient Boosting': GradientBoostingClassifier(),\n",
    "    '        Decision Tree': DecisionTreeClassifier(),\n",
    "    '        Random Forest': RandomForestClassifier(),\n",
    "    ' KNeighborsClassifier': KNeighborsClassifier(),\n",
    "    '   Bagging Classifier': BaggingClassifier()\n",
    "}\n",
    "\n",
    "for name, model in models.items():\n",
    "    model = model.fit(X_train_smote, y_train_smote)\n",
    "    print(name + \" trained\")"
   ]
  },
  {
   "cell_type": "code",
   "execution_count": 40,
   "id": "823b798d",
   "metadata": {
    "papermill": {
     "duration": 41.930495,
     "end_time": "2022-01-19T04:23:08.959353",
     "exception": false,
     "start_time": "2022-01-19T04:22:27.028858",
     "status": "completed"
    },
    "tags": []
   },
   "outputs": [
    {
     "name": "stdout",
     "output_type": "stream",
     "text": [
      "  Logistic Regression: 71.04%\n",
      "           Linear SVM: 70.85%\n",
      "        XGBClassifier: 84.71%\n",
      "    Gradient Boosting: 82.71%\n",
      "        Decision Tree: 78.30%\n",
      "        Random Forest: 82.49%\n",
      " KNeighborsClassifier: 77.66%\n",
      "   Bagging Classifier: 83.12%\n"
     ]
    }
   ],
   "source": [
    "for name, model in models.items():\n",
    "    print(name + \": {:.2f}%\".format(model.score(X_test, y_test) * 100))"
   ]
  },
  {
   "cell_type": "code",
   "execution_count": 41,
   "id": "1bb6427e",
   "metadata": {
    "papermill": {
     "duration": 0.036036,
     "end_time": "2022-01-19T04:23:09.025626",
     "exception": false,
     "start_time": "2022-01-19T04:23:08.989590",
     "status": "completed"
    },
    "tags": []
   },
   "outputs": [],
   "source": [
    "import tensorflow as tf"
   ]
  },
  {
   "cell_type": "code",
   "execution_count": 42,
   "id": "10452832",
   "metadata": {
    "papermill": {
     "duration": 0.177452,
     "end_time": "2022-01-19T04:23:09.233046",
     "exception": false,
     "start_time": "2022-01-19T04:23:09.055594",
     "status": "completed"
    },
    "tags": []
   },
   "outputs": [
    {
     "data": {
      "text/html": [
       "<pre style=\"white-space:pre;overflow-x:auto;line-height:normal;font-family:Menlo,'DejaVu Sans Mono',consolas,'Courier New',monospace\"><span style=\"font-weight: bold\">Model: \"functional\"</span>\n",
       "</pre>\n"
      ],
      "text/plain": [
       "\u001b[1mModel: \"functional\"\u001b[0m\n"
      ]
     },
     "metadata": {},
     "output_type": "display_data"
    },
    {
     "data": {
      "text/html": [
       "<pre style=\"white-space:pre;overflow-x:auto;line-height:normal;font-family:Menlo,'DejaVu Sans Mono',consolas,'Courier New',monospace\">┏━━━━━━━━━━━━━━━━━━━━━━━━━━━━━━━━━┳━━━━━━━━━━━━━━━━━━━━━━━━┳━━━━━━━━━━━━━━━┓\n",
       "┃<span style=\"font-weight: bold\"> Layer (type)                    </span>┃<span style=\"font-weight: bold\"> Output Shape           </span>┃<span style=\"font-weight: bold\">       Param # </span>┃\n",
       "┡━━━━━━━━━━━━━━━━━━━━━━━━━━━━━━━━━╇━━━━━━━━━━━━━━━━━━━━━━━━╇━━━━━━━━━━━━━━━┩\n",
       "│ input_layer (<span style=\"color: #0087ff; text-decoration-color: #0087ff\">InputLayer</span>)        │ (<span style=\"color: #00d7ff; text-decoration-color: #00d7ff\">None</span>, <span style=\"color: #00af00; text-decoration-color: #00af00\">14</span>)             │             <span style=\"color: #00af00; text-decoration-color: #00af00\">0</span> │\n",
       "├─────────────────────────────────┼────────────────────────┼───────────────┤\n",
       "│ dense (<span style=\"color: #0087ff; text-decoration-color: #0087ff\">Dense</span>)                   │ (<span style=\"color: #00d7ff; text-decoration-color: #00d7ff\">None</span>, <span style=\"color: #00af00; text-decoration-color: #00af00\">128</span>)            │         <span style=\"color: #00af00; text-decoration-color: #00af00\">1,920</span> │\n",
       "├─────────────────────────────────┼────────────────────────┼───────────────┤\n",
       "│ batch_normalization             │ (<span style=\"color: #00d7ff; text-decoration-color: #00d7ff\">None</span>, <span style=\"color: #00af00; text-decoration-color: #00af00\">128</span>)            │           <span style=\"color: #00af00; text-decoration-color: #00af00\">512</span> │\n",
       "│ (<span style=\"color: #0087ff; text-decoration-color: #0087ff\">BatchNormalization</span>)            │                        │               │\n",
       "├─────────────────────────────────┼────────────────────────┼───────────────┤\n",
       "│ dense_1 (<span style=\"color: #0087ff; text-decoration-color: #0087ff\">Dense</span>)                 │ (<span style=\"color: #00d7ff; text-decoration-color: #00d7ff\">None</span>, <span style=\"color: #00af00; text-decoration-color: #00af00\">64</span>)             │         <span style=\"color: #00af00; text-decoration-color: #00af00\">8,256</span> │\n",
       "├─────────────────────────────────┼────────────────────────┼───────────────┤\n",
       "│ dropout (<span style=\"color: #0087ff; text-decoration-color: #0087ff\">Dropout</span>)               │ (<span style=\"color: #00d7ff; text-decoration-color: #00d7ff\">None</span>, <span style=\"color: #00af00; text-decoration-color: #00af00\">64</span>)             │             <span style=\"color: #00af00; text-decoration-color: #00af00\">0</span> │\n",
       "├─────────────────────────────────┼────────────────────────┼───────────────┤\n",
       "│ dense_2 (<span style=\"color: #0087ff; text-decoration-color: #0087ff\">Dense</span>)                 │ (<span style=\"color: #00d7ff; text-decoration-color: #00d7ff\">None</span>, <span style=\"color: #00af00; text-decoration-color: #00af00\">32</span>)             │         <span style=\"color: #00af00; text-decoration-color: #00af00\">2,080</span> │\n",
       "├─────────────────────────────────┼────────────────────────┼───────────────┤\n",
       "│ dropout_1 (<span style=\"color: #0087ff; text-decoration-color: #0087ff\">Dropout</span>)             │ (<span style=\"color: #00d7ff; text-decoration-color: #00d7ff\">None</span>, <span style=\"color: #00af00; text-decoration-color: #00af00\">32</span>)             │             <span style=\"color: #00af00; text-decoration-color: #00af00\">0</span> │\n",
       "├─────────────────────────────────┼────────────────────────┼───────────────┤\n",
       "│ dense_3 (<span style=\"color: #0087ff; text-decoration-color: #0087ff\">Dense</span>)                 │ (<span style=\"color: #00d7ff; text-decoration-color: #00d7ff\">None</span>, <span style=\"color: #00af00; text-decoration-color: #00af00\">1</span>)              │            <span style=\"color: #00af00; text-decoration-color: #00af00\">33</span> │\n",
       "└─────────────────────────────────┴────────────────────────┴───────────────┘\n",
       "</pre>\n"
      ],
      "text/plain": [
       "┏━━━━━━━━━━━━━━━━━━━━━━━━━━━━━━━━━┳━━━━━━━━━━━━━━━━━━━━━━━━┳━━━━━━━━━━━━━━━┓\n",
       "┃\u001b[1m \u001b[0m\u001b[1mLayer (type)                   \u001b[0m\u001b[1m \u001b[0m┃\u001b[1m \u001b[0m\u001b[1mOutput Shape          \u001b[0m\u001b[1m \u001b[0m┃\u001b[1m \u001b[0m\u001b[1m      Param #\u001b[0m\u001b[1m \u001b[0m┃\n",
       "┡━━━━━━━━━━━━━━━━━━━━━━━━━━━━━━━━━╇━━━━━━━━━━━━━━━━━━━━━━━━╇━━━━━━━━━━━━━━━┩\n",
       "│ input_layer (\u001b[38;5;33mInputLayer\u001b[0m)        │ (\u001b[38;5;45mNone\u001b[0m, \u001b[38;5;34m14\u001b[0m)             │             \u001b[38;5;34m0\u001b[0m │\n",
       "├─────────────────────────────────┼────────────────────────┼───────────────┤\n",
       "│ dense (\u001b[38;5;33mDense\u001b[0m)                   │ (\u001b[38;5;45mNone\u001b[0m, \u001b[38;5;34m128\u001b[0m)            │         \u001b[38;5;34m1,920\u001b[0m │\n",
       "├─────────────────────────────────┼────────────────────────┼───────────────┤\n",
       "│ batch_normalization             │ (\u001b[38;5;45mNone\u001b[0m, \u001b[38;5;34m128\u001b[0m)            │           \u001b[38;5;34m512\u001b[0m │\n",
       "│ (\u001b[38;5;33mBatchNormalization\u001b[0m)            │                        │               │\n",
       "├─────────────────────────────────┼────────────────────────┼───────────────┤\n",
       "│ dense_1 (\u001b[38;5;33mDense\u001b[0m)                 │ (\u001b[38;5;45mNone\u001b[0m, \u001b[38;5;34m64\u001b[0m)             │         \u001b[38;5;34m8,256\u001b[0m │\n",
       "├─────────────────────────────────┼────────────────────────┼───────────────┤\n",
       "│ dropout (\u001b[38;5;33mDropout\u001b[0m)               │ (\u001b[38;5;45mNone\u001b[0m, \u001b[38;5;34m64\u001b[0m)             │             \u001b[38;5;34m0\u001b[0m │\n",
       "├─────────────────────────────────┼────────────────────────┼───────────────┤\n",
       "│ dense_2 (\u001b[38;5;33mDense\u001b[0m)                 │ (\u001b[38;5;45mNone\u001b[0m, \u001b[38;5;34m32\u001b[0m)             │         \u001b[38;5;34m2,080\u001b[0m │\n",
       "├─────────────────────────────────┼────────────────────────┼───────────────┤\n",
       "│ dropout_1 (\u001b[38;5;33mDropout\u001b[0m)             │ (\u001b[38;5;45mNone\u001b[0m, \u001b[38;5;34m32\u001b[0m)             │             \u001b[38;5;34m0\u001b[0m │\n",
       "├─────────────────────────────────┼────────────────────────┼───────────────┤\n",
       "│ dense_3 (\u001b[38;5;33mDense\u001b[0m)                 │ (\u001b[38;5;45mNone\u001b[0m, \u001b[38;5;34m1\u001b[0m)              │            \u001b[38;5;34m33\u001b[0m │\n",
       "└─────────────────────────────────┴────────────────────────┴───────────────┘\n"
      ]
     },
     "metadata": {},
     "output_type": "display_data"
    },
    {
     "data": {
      "text/html": [
       "<pre style=\"white-space:pre;overflow-x:auto;line-height:normal;font-family:Menlo,'DejaVu Sans Mono',consolas,'Courier New',monospace\"><span style=\"font-weight: bold\"> Total params: </span><span style=\"color: #00af00; text-decoration-color: #00af00\">12,801</span> (50.00 KB)\n",
       "</pre>\n"
      ],
      "text/plain": [
       "\u001b[1m Total params: \u001b[0m\u001b[38;5;34m12,801\u001b[0m (50.00 KB)\n"
      ]
     },
     "metadata": {},
     "output_type": "display_data"
    },
    {
     "data": {
      "text/html": [
       "<pre style=\"white-space:pre;overflow-x:auto;line-height:normal;font-family:Menlo,'DejaVu Sans Mono',consolas,'Courier New',monospace\"><span style=\"font-weight: bold\"> Trainable params: </span><span style=\"color: #00af00; text-decoration-color: #00af00\">12,545</span> (49.00 KB)\n",
       "</pre>\n"
      ],
      "text/plain": [
       "\u001b[1m Trainable params: \u001b[0m\u001b[38;5;34m12,545\u001b[0m (49.00 KB)\n"
      ]
     },
     "metadata": {},
     "output_type": "display_data"
    },
    {
     "data": {
      "text/html": [
       "<pre style=\"white-space:pre;overflow-x:auto;line-height:normal;font-family:Menlo,'DejaVu Sans Mono',consolas,'Courier New',monospace\"><span style=\"font-weight: bold\"> Non-trainable params: </span><span style=\"color: #00af00; text-decoration-color: #00af00\">256</span> (1.00 KB)\n",
       "</pre>\n"
      ],
      "text/plain": [
       "\u001b[1m Non-trainable params: \u001b[0m\u001b[38;5;34m256\u001b[0m (1.00 KB)\n"
      ]
     },
     "metadata": {},
     "output_type": "display_data"
    }
   ],
   "source": [
    "inputs = tf.keras.Input(shape=(X_train_smote.shape[1],))\n",
    "\n",
    "x = tf.keras.layers.Dense(128, activation = 'relu')(inputs)\n",
    "x = tf.keras.layers.BatchNormalization()(x)\n",
    "x = tf.keras.layers.Dense(64, activation = 'relu')(x)\n",
    "x = tf.keras.layers.Dropout(0.6)(x)\n",
    "x = tf.keras.layers.Dense(32, activation = 'relu')(x)\n",
    "x = tf.keras.layers.Dropout(0.2)(x)\n",
    "\n",
    "outputs = tf.keras.layers.Dense(1, activation='sigmoid')(x)\n",
    "\n",
    "\n",
    "model = tf.keras.Model(inputs = inputs, outputs = outputs)\n",
    "\n",
    "model.compile(optimizer=\"adam\",\n",
    "             loss=\"binary_crossentropy\",\n",
    "             metrics=[\"binary_accuracy\"])\n",
    "model.summary()"
   ]
  },
  {
   "cell_type": "code",
   "execution_count": 43,
   "id": "78f24b0c",
   "metadata": {
    "papermill": {
     "duration": 88.436052,
     "end_time": "2022-01-19T04:24:37.699128",
     "exception": false,
     "start_time": "2022-01-19T04:23:09.263076",
     "status": "completed"
    },
    "tags": []
   },
   "outputs": [
    {
     "name": "stdout",
     "output_type": "stream",
     "text": [
      "Epoch 1/100\n",
      "\u001b[1m6559/6559\u001b[0m \u001b[32m━━━━━━━━━━━━━━━━━━━━\u001b[0m\u001b[37m\u001b[0m \u001b[1m12s\u001b[0m 2ms/step - binary_accuracy: 0.7648 - loss: 0.5044 - val_binary_accuracy: 0.6423 - val_loss: 0.5867\n",
      "Epoch 2/100\n",
      "\u001b[1m6559/6559\u001b[0m \u001b[32m━━━━━━━━━━━━━━━━━━━━\u001b[0m\u001b[37m\u001b[0m \u001b[1m10s\u001b[0m 2ms/step - binary_accuracy: 0.8114 - loss: 0.4360 - val_binary_accuracy: 0.6799 - val_loss: 0.6487\n",
      "Epoch 3/100\n",
      "\u001b[1m6559/6559\u001b[0m \u001b[32m━━━━━━━━━━━━━━━━━━━━\u001b[0m\u001b[37m\u001b[0m \u001b[1m10s\u001b[0m 2ms/step - binary_accuracy: 0.8130 - loss: 0.4340 - val_binary_accuracy: 0.7458 - val_loss: 0.5447\n",
      "Epoch 4/100\n",
      "\u001b[1m6559/6559\u001b[0m \u001b[32m━━━━━━━━━━━━━━━━━━━━\u001b[0m\u001b[37m\u001b[0m \u001b[1m10s\u001b[0m 2ms/step - binary_accuracy: 0.8143 - loss: 0.4311 - val_binary_accuracy: 0.7000 - val_loss: 0.6785\n",
      "Epoch 5/100\n",
      "\u001b[1m6559/6559\u001b[0m \u001b[32m━━━━━━━━━━━━━━━━━━━━\u001b[0m\u001b[37m\u001b[0m \u001b[1m10s\u001b[0m 2ms/step - binary_accuracy: 0.8159 - loss: 0.4303 - val_binary_accuracy: 0.7114 - val_loss: 0.5867\n",
      "Epoch 6/100\n",
      "\u001b[1m6559/6559\u001b[0m \u001b[32m━━━━━━━━━━━━━━━━━━━━\u001b[0m\u001b[37m\u001b[0m \u001b[1m10s\u001b[0m 2ms/step - binary_accuracy: 0.8162 - loss: 0.4264 - val_binary_accuracy: 0.6595 - val_loss: 0.6730\n"
     ]
    }
   ],
   "source": [
    "epochs=100\n",
    "history = model.fit(\n",
    "  X_train_smote,\n",
    "  y_train_smote,\n",
    "  validation_split=0.2,\n",
    "  epochs=epochs,\n",
    "    callbacks=[\n",
    "        tf.keras.callbacks.EarlyStopping(\n",
    "            monitor=\"val_loss\",\n",
    "            patience=3,\n",
    "            restore_best_weights=True\n",
    "            )\n",
    "    ]\n",
    ")"
   ]
  },
  {
   "cell_type": "code",
   "execution_count": 44,
   "id": "5248223e",
   "metadata": {
    "papermill": {
     "duration": 2.704164,
     "end_time": "2022-01-19T04:24:40.900822",
     "exception": false,
     "start_time": "2022-01-19T04:24:38.196658",
     "status": "completed"
    },
    "tags": []
   },
   "outputs": [
    {
     "name": "stdout",
     "output_type": "stream",
     "text": [
      "\u001b[1m2304/2304\u001b[0m \u001b[32m━━━━━━━━━━━━━━━━━━━━\u001b[0m\u001b[37m\u001b[0m \u001b[1m2s\u001b[0m 735us/step - binary_accuracy: 0.8306 - loss: 0.4141\n",
      "My test loss is 41.45% and test accuracy is 83.09%\n"
     ]
    }
   ],
   "source": [
    "loss, accuracy = model.evaluate(X_test, y_test)\n",
    "print(f'My test loss is {loss*100:.2f}% and test accuracy is {accuracy*100:.2f}%')"
   ]
  },
  {
   "cell_type": "code",
   "execution_count": null,
   "id": "bec347d8",
   "metadata": {
    "papermill": {
     "duration": 0.505004,
     "end_time": "2022-01-19T04:24:41.912435",
     "exception": false,
     "start_time": "2022-01-19T04:24:41.407431",
     "status": "completed"
    },
    "tags": []
   },
   "outputs": [],
   "source": []
  }
 ],
 "metadata": {
  "kernelspec": {
   "display_name": "Python 3 (ipykernel)",
   "language": "python",
   "name": "python3"
  },
  "language_info": {
   "codemirror_mode": {
    "name": "ipython",
    "version": 3
   },
   "file_extension": ".py",
   "mimetype": "text/x-python",
   "name": "python",
   "nbconvert_exporter": "python",
   "pygments_lexer": "ipython3",
   "version": "3.10.13"
  },
  "papermill": {
   "default_parameters": {},
   "duration": 435.019086,
   "end_time": "2022-01-19T04:24:44.035245",
   "environment_variables": {},
   "exception": null,
   "input_path": "__notebook__.ipynb",
   "output_path": "__notebook__.ipynb",
   "parameters": {},
   "start_time": "2022-01-19T04:17:29.016159",
   "version": "2.3.3"
  }
 },
 "nbformat": 4,
 "nbformat_minor": 5
}
